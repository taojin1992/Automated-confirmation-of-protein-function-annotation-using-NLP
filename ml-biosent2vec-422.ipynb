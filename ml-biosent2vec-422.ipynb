{
 "cells": [
  {
   "cell_type": "code",
   "execution_count": 1,
   "metadata": {
    "scrolled": false
   },
   "outputs": [],
   "source": [
    "# use BioSent2Vec and traditional ml on titles\n",
    "from nltk import word_tokenize\n",
    "from nltk.corpus import stopwords\n",
    "from string import punctuation\n",
    "from scipy.spatial import distance\n",
    "import numpy as np\n",
    "from sklearn.datasets import make_classification\n",
    "from sklearn.metrics import precision_score\n",
    "from sklearn.metrics import recall_score\n",
    "import pickle"
   ]
  },
  {
   "cell_type": "code",
   "execution_count": 2,
   "metadata": {},
   "outputs": [],
   "source": [
    "import sent2vec"
   ]
  },
  {
   "cell_type": "code",
   "execution_count": 3,
   "metadata": {},
   "outputs": [],
   "source": [
    "neg_path = '/home/paperspace/Documents/RCNN-421-BioSentVec/data/title.neg-ns'\n",
    "pos_path = '/home/paperspace/Documents/RCNN-421-BioSentVec/data/title.pos-ns'\n",
    "model_path = 'BioSentVec_PubMed_MIMICIII-bigram_d700.bin'\n",
    "model = sent2vec.Sent2vecModel()"
   ]
  },
  {
   "cell_type": "code",
   "execution_count": 4,
   "metadata": {},
   "outputs": [
    {
     "name": "stdout",
     "output_type": "stream",
     "text": [
      "model successfully loaded\n"
     ]
    }
   ],
   "source": [
    "try:\n",
    "    model.load_model(model_path)\n",
    "except Exception as e:\n",
    "    print(e)\n",
    "print('model successfully loaded')"
   ]
  },
  {
   "cell_type": "code",
   "execution_count": 5,
   "metadata": {},
   "outputs": [],
   "source": [
    "# prepare the data from one single file\n",
    "# 60/20/20\n",
    "pos_arrays = np.zeros((23499, 700)) # the sum of all the training examples (neg+pos)\n",
    "pos_labels = np.zeros(23499)\n",
    "\n",
    "neg_arrays = np.zeros((23499, 700)) # the sum of all the training examples (neg+pos)\n",
    "neg_labels = np.zeros(23499)"
   ]
  },
  {
   "cell_type": "code",
   "execution_count": 6,
   "metadata": {
    "scrolled": false
   },
   "outputs": [
    {
     "name": "stdout",
     "output_type": "stream",
     "text": [
      "23499\n"
     ]
    }
   ],
   "source": [
    "with open(pos_path) as pos:\n",
    "    i = 0\n",
    "    for line in pos:\n",
    "        #print(line)\n",
    "        sentence_vector = model.embed_sentence(line)\n",
    "        pos_arrays[i] = sentence_vector\n",
    "        pos_labels[i] = 1\n",
    "        i = i + 1\n",
    "    print(i)"
   ]
  },
  {
   "cell_type": "code",
   "execution_count": 7,
   "metadata": {},
   "outputs": [
    {
     "name": "stdout",
     "output_type": "stream",
     "text": [
      "23499\n"
     ]
    }
   ],
   "source": [
    "with open(neg_path) as neg:\n",
    "    i = 0\n",
    "    for line in neg:\n",
    "    \tsentence_vector = model.embed_sentence(line)\n",
    "    \tneg_arrays[i] = sentence_vector\n",
    "    \tneg_labels[i] = 0\n",
    "    \ti = i + 1\n",
    "    print(i)"
   ]
  },
  {
   "cell_type": "code",
   "execution_count": 8,
   "metadata": {},
   "outputs": [],
   "source": [
    "np.random.seed(10)\n",
    "dev_sample_percentage = 0.2\n",
    "test_sample_percentage = 0.2\n",
    "total = 23499 \n",
    "np.random.shuffle(pos_arrays)\n",
    "np.random.shuffle(neg_arrays)\n",
    "dev_sample_index = -1 * int(dev_sample_percentage * float(total))\n",
    "test_sample_index = -1 * int(test_sample_percentage * float(total)) "
   ]
  },
  {
   "cell_type": "code",
   "execution_count": 9,
   "metadata": {},
   "outputs": [],
   "source": [
    "training_pos, val_pos, test_pos  = pos_arrays[:dev_sample_index+test_sample_index], pos_arrays[dev_sample_index+test_sample_index:test_sample_index], pos_arrays[test_sample_index:] \n",
    "training_neg, val_neg, test_neg  = neg_arrays[:dev_sample_index+test_sample_index], neg_arrays[dev_sample_index+test_sample_index:test_sample_index], neg_arrays[test_sample_index:] \n"
   ]
  },
  {
   "cell_type": "code",
   "execution_count": 10,
   "metadata": {},
   "outputs": [
    {
     "name": "stdout",
     "output_type": "stream",
     "text": [
      "(28202, 700)\n",
      "28202\n"
     ]
    }
   ],
   "source": [
    "# https://stackoverflow.com/questions/3674409/how-to-split-partition-a-dataset-into-training-and-test-datasets-for-e-g-cros\n",
    "train_arrays = np.concatenate([training_pos, training_neg])\n",
    "print(np.shape(train_arrays))\n",
    "train_label_num, feature_dim = np.shape(train_arrays)\n",
    "print(train_label_num)"
   ]
  },
  {
   "cell_type": "code",
   "execution_count": 11,
   "metadata": {},
   "outputs": [
    {
     "name": "stdout",
     "output_type": "stream",
     "text": [
      "(9398, 700)\n",
      "9398\n"
     ]
    }
   ],
   "source": [
    "val_arrays = np.concatenate([val_pos, val_neg])\n",
    "print(np.shape(val_arrays))\n",
    "val_label_num, feature_dim = np.shape(val_arrays)\n",
    "print(val_label_num)"
   ]
  },
  {
   "cell_type": "code",
   "execution_count": 12,
   "metadata": {},
   "outputs": [
    {
     "name": "stdout",
     "output_type": "stream",
     "text": [
      "(9398, 700)\n",
      "9398\n"
     ]
    }
   ],
   "source": [
    "test_arrays = np.concatenate([test_pos, test_neg])\n",
    "print(np.shape(test_arrays))\n",
    "test_label_num, feature_dim = np.shape(test_arrays)\n",
    "print(test_label_num)"
   ]
  },
  {
   "cell_type": "code",
   "execution_count": 13,
   "metadata": {},
   "outputs": [],
   "source": [
    "train_pos_label = np.ones(int(train_label_num/2))\n",
    "train_neg_label = np.zeros(int(train_label_num/2))\n",
    "train_labels = np.concatenate([train_pos_label, train_neg_label])\n",
    "\n",
    "val_pos_label = np.ones(int(val_label_num/2))\n",
    "val_neg_label = np.zeros(int(val_label_num/2))\n",
    "val_labels = np.concatenate([val_pos_label, val_neg_label])\n",
    "\n",
    "test_pos_label = np.ones(int(test_label_num/2))\n",
    "test_neg_label = np.zeros(int(test_label_num/2))\n",
    "test_labels = np.concatenate([test_pos_label, test_neg_label])"
   ]
  },
  {
   "cell_type": "code",
   "execution_count": 14,
   "metadata": {},
   "outputs": [
    {
     "name": "stdout",
     "output_type": "stream",
     "text": [
      "28202\n",
      "9398\n",
      "9398\n"
     ]
    }
   ],
   "source": [
    "print(len(train_arrays))\n",
    "print(len(val_arrays))\n",
    "print(len(test_arrays))"
   ]
  },
  {
   "cell_type": "code",
   "execution_count": 15,
   "metadata": {},
   "outputs": [],
   "source": [
    "import pickle\n",
    "from sklearn import preprocessing\n",
    "from sklearn.model_selection import train_test_split\n",
    "from sklearn.model_selection import train_test_split\n",
    "from sklearn.linear_model import LogisticRegression\n",
    "from sklearn.datasets import make_classification\n",
    "from sklearn.metrics import average_precision_score\n",
    "from sklearn.metrics import accuracy_score, recall_score, precision_score\n",
    "from sklearn.metrics import f1_score\n",
    "import pickle\n",
    "import glob, os"
   ]
  },
  {
   "cell_type": "code",
   "execution_count": null,
   "metadata": {},
   "outputs": [],
   "source": [
    "# ensemble learning\n",
    "from sklearn import svm\n",
    "abs_dir = \"/home/paperspace/Documents/BioSentVec/\"\n",
    "lr_dir = abs_dir + \"lg_models/\"\n",
    "rf_dir = abs_dir + \"rf_models/\"\n",
    "svm_dir = abs_dir + \"svm_models_linear/\"# svm_models_linear/c_0.1_svm.sav\n",
    "\n",
    "lr_model_1 = pickle.load(open(lr_dir + \"0.01_lr.sav\", 'rb'))\n",
    "#rf_model = pickle.load(open(rf_dir + \"d_6_200_rf.sav\", 'rb'))\n",
    "svm_model_1 = pickle.load(open(svm_dir + \"c_0.1_svm.sav\", 'rb'))\n"
   ]
  },
  {
   "cell_type": "code",
   "execution_count": 27,
   "metadata": {},
   "outputs": [
    {
     "name": "stdout",
     "output_type": "stream",
     "text": [
      "*****************************************************\n",
      "current C = 1e-05\n"
     ]
    },
    {
     "name": "stderr",
     "output_type": "stream",
     "text": [
      "/home/paperspace/.local/lib/python3.6/site-packages/sklearn/linear_model/logistic.py:433: FutureWarning: Default solver will be changed to 'lbfgs' in 0.22. Specify a solver to silence this warning.\n",
      "  FutureWarning)\n"
     ]
    },
    {
     "name": "stdout",
     "output_type": "stream",
     "text": [
      "Train  | Acc: 0.67505851 | Precision: 0.69490722 | Recall: 0.62414013 | F1: 0.65762535\n",
      "Validation  | Acc: 0.67152586 | Precision: 0.69000471 | Recall: 0.62289849 | F1: 0.65473661\n",
      "Test  | Acc: 0.67695254 | Precision: 0.69792906 | Recall: 0.62396255 | F1: 0.65887640\n",
      "current model saved to /home/paperspace/Documents/BioSentVec/lg_models/1e-05_lr.sav\n",
      "*****************************************************\n",
      "current C = 0.0001\n"
     ]
    },
    {
     "name": "stderr",
     "output_type": "stream",
     "text": [
      "/home/paperspace/.local/lib/python3.6/site-packages/sklearn/linear_model/logistic.py:433: FutureWarning: Default solver will be changed to 'lbfgs' in 0.22. Specify a solver to silence this warning.\n",
      "  FutureWarning)\n"
     ]
    },
    {
     "name": "stdout",
     "output_type": "stream",
     "text": [
      "Train  | Acc: 0.67824977 | Precision: 0.67944599 | Recall: 0.67491667 | F1: 0.67717376\n",
      "Validation  | Acc: 0.67716535 | Precision: 0.67611593 | Recall: 0.68014471 | F1: 0.67812434\n",
      "Test  | Acc: 0.68046393 | Precision: 0.68111918 | Recall: 0.67865503 | F1: 0.67988487\n",
      "current model saved to /home/paperspace/Documents/BioSentVec/lg_models/0.0001_lr.sav\n",
      "*****************************************************\n",
      "current C = 0.001\n"
     ]
    },
    {
     "name": "stderr",
     "output_type": "stream",
     "text": [
      "/home/paperspace/.local/lib/python3.6/site-packages/sklearn/linear_model/logistic.py:433: FutureWarning: Default solver will be changed to 'lbfgs' in 0.22. Specify a solver to silence this warning.\n",
      "  FutureWarning)\n"
     ]
    },
    {
     "name": "stdout",
     "output_type": "stream",
     "text": [
      "Train  | Acc: 0.69427700 | Precision: 0.69331734 | Recall: 0.69675910 | F1: 0.69503396\n",
      "Validation  | Acc: 0.69195574 | Precision: 0.68752599 | Recall: 0.70376676 | F1: 0.69555158\n",
      "Test  | Acc: 0.69429666 | Precision: 0.69318663 | Recall: 0.69716961 | F1: 0.69517241\n",
      "current model saved to /home/paperspace/Documents/BioSentVec/lg_models/0.001_lr.sav\n",
      "*****************************************************\n",
      "current C = 0.01\n"
     ]
    },
    {
     "name": "stderr",
     "output_type": "stream",
     "text": [
      "/home/paperspace/.local/lib/python3.6/site-packages/sklearn/linear_model/logistic.py:433: FutureWarning: Default solver will be changed to 'lbfgs' in 0.22. Specify a solver to silence this warning.\n",
      "  FutureWarning)\n"
     ]
    },
    {
     "name": "stdout",
     "output_type": "stream",
     "text": [
      "Train  | Acc: 0.71250266 | Precision: 0.71232197 | Recall: 0.71292816 | F1: 0.71262494\n",
      "Validation  | Acc: 0.70515003 | Precision: 0.70235097 | Recall: 0.71206640 | F1: 0.70717531\n",
      "Test  | Acc: 0.70727814 | Precision: 0.70820864 | Recall: 0.70504363 | F1: 0.70662259\n",
      "current model saved to /home/paperspace/Documents/BioSentVec/lg_models/0.01_lr.sav\n",
      "*****************************************************\n",
      "current C = 0.1\n"
     ]
    },
    {
     "name": "stderr",
     "output_type": "stream",
     "text": [
      "/home/paperspace/.local/lib/python3.6/site-packages/sklearn/linear_model/logistic.py:433: FutureWarning: Default solver will be changed to 'lbfgs' in 0.22. Specify a solver to silence this warning.\n",
      "  FutureWarning)\n"
     ]
    },
    {
     "name": "stdout",
     "output_type": "stream",
     "text": [
      "Train  | Acc: 0.72030352 | Precision: 0.72093023 | Recall: 0.71888519 | F1: 0.71990626\n",
      "Validation  | Acc: 0.70025537 | Precision: 0.69885883 | Recall: 0.70376676 | F1: 0.70130421\n",
      "Test  | Acc: 0.70578847 | Precision: 0.70751073 | Recall: 0.70163865 | F1: 0.70456245\n",
      "current model saved to /home/paperspace/Documents/BioSentVec/lg_models/0.1_lr.sav\n",
      "*****************************************************\n",
      "current C = 1\n"
     ]
    },
    {
     "name": "stderr",
     "output_type": "stream",
     "text": [
      "/home/paperspace/.local/lib/python3.6/site-packages/sklearn/linear_model/logistic.py:433: FutureWarning: Default solver will be changed to 'lbfgs' in 0.22. Specify a solver to silence this warning.\n",
      "  FutureWarning)\n"
     ]
    },
    {
     "name": "stdout",
     "output_type": "stream",
     "text": [
      "Train  | Acc: 0.72150911 | Precision: 0.72232899 | Recall: 0.71966527 | F1: 0.72099467\n",
      "Validation  | Acc: 0.70046818 | Precision: 0.69898606 | Recall: 0.70419238 | F1: 0.70157956\n",
      "Test  | Acc: 0.70610768 | Precision: 0.70868347 | Recall: 0.69993616 | F1: 0.70428266\n",
      "current model saved to /home/paperspace/Documents/BioSentVec/lg_models/1_lr.sav\n",
      "*****************************************************\n",
      "current C = 10\n"
     ]
    },
    {
     "name": "stderr",
     "output_type": "stream",
     "text": [
      "/home/paperspace/.local/lib/python3.6/site-packages/sklearn/linear_model/logistic.py:433: FutureWarning: Default solver will be changed to 'lbfgs' in 0.22. Specify a solver to silence this warning.\n",
      "  FutureWarning)\n"
     ]
    },
    {
     "name": "stdout",
     "output_type": "stream",
     "text": [
      "Train  | Acc: 0.72150911 | Precision: 0.72217085 | Recall: 0.72001986 | F1: 0.72109375\n",
      "Validation  | Acc: 0.70068100 | Precision: 0.69928149 | Recall: 0.70419238 | F1: 0.70172834\n",
      "Test  | Acc: 0.70600128 | Precision: 0.70844100 | Recall: 0.70014897 | F1: 0.70427058\n",
      "current model saved to /home/paperspace/Documents/BioSentVec/lg_models/10_lr.sav\n",
      "*****************************************************\n",
      "current C = 100\n"
     ]
    },
    {
     "name": "stderr",
     "output_type": "stream",
     "text": [
      "/home/paperspace/.local/lib/python3.6/site-packages/sklearn/linear_model/logistic.py:433: FutureWarning: Default solver will be changed to 'lbfgs' in 0.22. Specify a solver to silence this warning.\n",
      "  FutureWarning)\n"
     ]
    },
    {
     "name": "stdout",
     "output_type": "stream",
     "text": [
      "Train  | Acc: 0.72161549 | Precision: 0.72223012 | Recall: 0.72023261 | F1: 0.72122998\n",
      "Validation  | Acc: 0.70057459 | Precision: 0.69913374 | Recall: 0.70419238 | F1: 0.70165394\n",
      "Test  | Acc: 0.70589487 | Precision: 0.70828848 | Recall: 0.70014897 | F1: 0.70419521\n",
      "current model saved to /home/paperspace/Documents/BioSentVec/lg_models/100_lr.sav\n",
      "*****************************************************\n",
      "current C = 1000\n"
     ]
    },
    {
     "name": "stderr",
     "output_type": "stream",
     "text": [
      "/home/paperspace/.local/lib/python3.6/site-packages/sklearn/linear_model/logistic.py:433: FutureWarning: Default solver will be changed to 'lbfgs' in 0.22. Specify a solver to silence this warning.\n",
      "  FutureWarning)\n"
     ]
    },
    {
     "name": "stdout",
     "output_type": "stream",
     "text": [
      "Train  | Acc: 0.72161549 | Precision: 0.72223012 | Recall: 0.72023261 | F1: 0.72122998\n",
      "Validation  | Acc: 0.70046818 | Precision: 0.69907016 | Recall: 0.70397957 | F1: 0.70151628\n",
      "Test  | Acc: 0.70589487 | Precision: 0.70828848 | Recall: 0.70014897 | F1: 0.70419521\n",
      "current model saved to /home/paperspace/Documents/BioSentVec/lg_models/1000_lr.sav\n",
      "------------------------Work done-------------------------------------\n"
     ]
    }
   ],
   "source": [
    "# logistic regression\n",
    "lr_save_dir = \"/home/paperspace/Documents/BioSentVec/lg_models/\"\n",
    "C_values = [0.00001, 0.0001, 0.001, 0.01, 0.1, 1, 10, 100, 1000]\n",
    "for each in C_values:\n",
    "    # logistic regression\n",
    "    print(\"*****************************************************\")\n",
    "    print(\"current C = \" + str(each))\n",
    "    logistic_model = LogisticRegression(C=each, random_state=0, class_weight='balanced')\n",
    "    # Train model\n",
    "    model = logistic_model.fit(train_arrays, train_labels)\n",
    "    Y_train_pred = logistic_model.predict(train_arrays)\n",
    "    acc_train, pre_train, rec_train, f1_train = accuracy_score(train_labels, Y_train_pred), precision_score(train_labels, Y_train_pred), recall_score(train_labels, Y_train_pred), f1_score(train_labels, Y_train_pred)\n",
    "    print('Train  | Acc: %.8f | Precision: %.8f | Recall: %.8f | F1: %.8f' % (acc_train, pre_train, rec_train, f1_train))\n",
    "    Y_val_pred = logistic_model.predict(val_arrays)\n",
    "    acc_val, pre_val, rec_val, f1_val = accuracy_score(val_labels, Y_val_pred), precision_score(val_labels, Y_val_pred), recall_score(val_labels, Y_val_pred), f1_score(val_labels, Y_val_pred)\n",
    "    print('Validation  | Acc: %.8f | Precision: %.8f | Recall: %.8f | F1: %.8f' % (acc_val, pre_val, rec_val, f1_val))\n",
    "    Y_test_pred = logistic_model.predict(test_arrays)\n",
    "    acc_test, pre_test, rec_test, f1_test = accuracy_score(test_labels, Y_test_pred), precision_score(test_labels, Y_test_pred), recall_score(test_labels, Y_test_pred), f1_score(test_labels, Y_test_pred)\n",
    "    print('Test  | Acc: %.8f | Precision: %.8f | Recall: %.8f | F1: %.8f' % (acc_test, pre_test, rec_test, f1_test))\n",
    "    filename = str(each) + '_lr.sav'\n",
    "    pickle.dump(model, open(lr_save_dir + filename, 'wb'))\n",
    "    print(\"current model saved to \" + lr_save_dir + filename)\n",
    "print(\"------------------------Work done-------------------------------------\")"
   ]
  },
  {
   "cell_type": "code",
   "execution_count": 32,
   "metadata": {},
   "outputs": [
    {
     "name": "stdout",
     "output_type": "stream",
     "text": [
      "************************************************************************\n",
      "depth = 4\n",
      "num of trees = 50\n",
      "Train  | Acc: 0.69154670 | Precision: 0.69637924 | Recall: 0.67924261 | F1: 0.68770418\n",
      "Validation  | Acc: 0.66716323 | Precision: 0.66903379 | Recall: 0.66163013 | F1: 0.66531136\n",
      "Test  | Acc: 0.66961056 | Precision: 0.67439825 | Recall: 0.65588423 | F1: 0.66501241\n",
      "current model saved to /home/paperspace/Documents/BioSentVec/rf_models/d_4_50_rf.sav\n",
      "************************************************************************\n",
      "depth = 4\n",
      "num of trees = 100\n",
      "Train  | Acc: 0.69381604 | Precision: 0.69879255 | Recall: 0.68129920 | F1: 0.68993501\n",
      "Validation  | Acc: 0.66790807 | Precision: 0.67026327 | Recall: 0.66099170 | F1: 0.66559520\n",
      "Test  | Acc: 0.67407959 | Precision: 0.67852466 | Recall: 0.66163013 | F1: 0.66997091\n",
      "current model saved to /home/paperspace/Documents/BioSentVec/rf_models/d_4_100_rf.sav\n",
      "************************************************************************\n",
      "depth = 4\n",
      "num of trees = 150\n",
      "Train  | Acc: 0.69594355 | Precision: 0.70094545 | Recall: 0.68349762 | F1: 0.69211159\n",
      "Validation  | Acc: 0.66918493 | Precision: 0.67170626 | Recall: 0.66184295 | F1: 0.66673813\n",
      "Test  | Acc: 0.67439881 | Precision: 0.67765012 | Recall: 0.66524793 | F1: 0.67139175\n",
      "current model saved to /home/paperspace/Documents/BioSentVec/rf_models/d_4_150_rf.sav\n",
      "************************************************************************\n",
      "depth = 4\n",
      "num of trees = 200\n",
      "Train  | Acc: 0.69697185 | Precision: 0.70099139 | Recall: 0.68697256 | F1: 0.69391117\n",
      "Validation  | Acc: 0.66971696 | Precision: 0.67044240 | Recall: 0.66758885 | F1: 0.66901258\n",
      "Test  | Acc: 0.67312194 | Precision: 0.67475832 | Recall: 0.66844009 | F1: 0.67158435\n",
      "current model saved to /home/paperspace/Documents/BioSentVec/rf_models/d_4_200_rf.sav\n",
      "************************************************************************\n",
      "depth = 5\n",
      "num of trees = 50\n",
      "Train  | Acc: 0.70505638 | Precision: 0.71079682 | Recall: 0.69144032 | F1: 0.70098497\n",
      "Validation  | Acc: 0.67003618 | Precision: 0.67131218 | Recall: 0.66631198 | F1: 0.66880273\n",
      "Test  | Acc: 0.67195148 | Precision: 0.67534722 | Recall: 0.66226857 | F1: 0.66874396\n",
      "current model saved to /home/paperspace/Documents/BioSentVec/rf_models/d_5_50_rf.sav\n",
      "************************************************************************\n",
      "depth = 5\n",
      "num of trees = 100\n",
      "Train  | Acc: 0.70743210 | Precision: 0.71306818 | Recall: 0.69420608 | F1: 0.70351073\n",
      "Validation  | Acc: 0.67429240 | Precision: 0.67597765 | Recall: 0.66950415 | F1: 0.67272533\n",
      "Test  | Acc: 0.67716535 | Precision: 0.67968919 | Recall: 0.67014258 | F1: 0.67488213\n",
      "current model saved to /home/paperspace/Documents/BioSentVec/rf_models/d_5_100_rf.sav\n",
      "************************************************************************\n",
      "depth = 5\n",
      "num of trees = 150\n",
      "Train  | Acc: 0.70994965 | Precision: 0.71554423 | Recall: 0.69697185 | F1: 0.70613594\n",
      "Validation  | Acc: 0.67471803 | Precision: 0.67755190 | Recall: 0.66673760 | F1: 0.67210125\n",
      "Test  | Acc: 0.67822941 | Precision: 0.68069040 | Recall: 0.67141945 | F1: 0.67602314\n",
      "current model saved to /home/paperspace/Documents/BioSentVec/rf_models/d_5_150_rf.sav\n",
      "************************************************************************\n",
      "depth = 5\n",
      "num of trees = 200\n",
      "Train  | Acc: 0.71179349 | Precision: 0.71617807 | Recall: 0.70165237 | F1: 0.70884081\n",
      "Validation  | Acc: 0.67727176 | Precision: 0.67906277 | Recall: 0.67227070 | F1: 0.67564966\n",
      "Test  | Acc: 0.67865503 | Precision: 0.68096573 | Recall: 0.67227070 | F1: 0.67659028\n",
      "current model saved to /home/paperspace/Documents/BioSentVec/rf_models/d_5_200_rf.sav\n",
      "************************************************************************\n",
      "depth = 6\n",
      "num of trees = 50\n",
      "Train  | Acc: 0.72828168 | Precision: 0.73451843 | Recall: 0.71498475 | F1: 0.72461997\n",
      "Validation  | Acc: 0.67418600 | Precision: 0.67712616 | Recall: 0.66588636 | F1: 0.67145923\n",
      "Test  | Acc: 0.67982549 | Precision: 0.68433682 | Recall: 0.66758885 | F1: 0.67585910\n",
      "current model saved to /home/paperspace/Documents/BioSentVec/rf_models/d_6_50_rf.sav\n",
      "************************************************************************\n",
      "depth = 6\n",
      "num of trees = 100\n",
      "Train  | Acc: 0.73296220 | Precision: 0.73880489 | Recall: 0.72072903 | F1: 0.72965502\n",
      "Validation  | Acc: 0.67791019 | Precision: 0.68009479 | Recall: 0.67184507 | F1: 0.67594476\n",
      "Test  | Acc: 0.67939987 | Precision: 0.68160276 | Recall: 0.67333475 | F1: 0.67744353\n",
      "current model saved to /home/paperspace/Documents/BioSentVec/rf_models/d_6_100_rf.sav\n",
      "************************************************************************\n",
      "depth = 6\n",
      "num of trees = 150\n",
      "Train  | Acc: 0.73416779 | Precision: 0.74053030 | Recall: 0.72094178 | F1: 0.73060476\n",
      "Validation  | Acc: 0.68174080 | Precision: 0.68429003 | Recall: 0.67482443 | F1: 0.67952427\n",
      "Test  | Acc: 0.68078315 | Precision: 0.68312136 | Recall: 0.67439881 | F1: 0.67873206\n",
      "current model saved to /home/paperspace/Documents/BioSentVec/rf_models/d_6_150_rf.sav\n",
      "************************************************************************\n",
      "depth = 6\n",
      "num of trees = 200\n",
      "Train  | Acc: 0.73360045 | Precision: 0.73963335 | Recall: 0.72101269 | F1: 0.73020433\n",
      "Validation  | Acc: 0.67993190 | Precision: 0.68210209 | Recall: 0.67397319 | F1: 0.67801327\n",
      "Test  | Acc: 0.68227282 | Precision: 0.68313021 | Recall: 0.67993190 | F1: 0.68152730\n",
      "current model saved to /home/paperspace/Documents/BioSentVec/rf_models/d_6_200_rf.sav\n",
      "************************************************************************\n",
      "depth = 7\n",
      "num of trees = 50\n",
      "Train  | Acc: 0.75998156 | Precision: 0.77091339 | Recall: 0.73980569 | F1: 0.75503926\n",
      "Validation  | Acc: 0.67801660 | Precision: 0.67916042 | Recall: 0.67482443 | F1: 0.67698548\n",
      "Test  | Acc: 0.68078315 | Precision: 0.68479443 | Recall: 0.66992977 | F1: 0.67728055\n",
      "current model saved to /home/paperspace/Documents/BioSentVec/rf_models/d_7_50_rf.sav\n",
      "************************************************************************\n",
      "depth = 7\n",
      "num of trees = 100\n",
      "Train  | Acc: 0.76324374 | Precision: 0.77238039 | Recall: 0.74647188 | F1: 0.75920516\n",
      "Validation  | Acc: 0.67950628 | Precision: 0.67973578 | Recall: 0.67886784 | F1: 0.67930153\n",
      "Test  | Acc: 0.68376250 | Precision: 0.68605904 | Recall: 0.67759098 | F1: 0.68179872\n",
      "current model saved to /home/paperspace/Documents/BioSentVec/rf_models/d_7_100_rf.sav\n",
      "************************************************************************\n",
      "depth = 7\n",
      "num of trees = 150\n",
      "Train  | Acc: 0.76526487 | Precision: 0.77477411 | Recall: 0.74796114 | F1: 0.76113156\n",
      "Validation  | Acc: 0.68216642 | Precision: 0.68361218 | Recall: 0.67822941 | F1: 0.68091016\n",
      "Test  | Acc: 0.68535859 | Precision: 0.68723130 | Recall: 0.68035752 | F1: 0.68377714\n",
      "current model saved to /home/paperspace/Documents/BioSentVec/rf_models/d_7_150_rf.sav\n",
      "************************************************************************\n",
      "depth = 7\n",
      "num of trees = 200\n",
      "Train  | Acc: 0.76664776 | Precision: 0.77553862 | Recall: 0.75051415 | F1: 0.76282121\n",
      "Validation  | Acc: 0.68301766 | Precision: 0.68368219 | Recall: 0.68120877 | F1: 0.68244324\n",
      "Test  | Acc: 0.68642264 | Precision: 0.68782161 | Recall: 0.68269845 | F1: 0.68525045\n",
      "current model saved to /home/paperspace/Documents/BioSentVec/rf_models/d_7_200_rf.sav\n",
      "************************************************************************\n",
      "depth = 8\n",
      "num of trees = 50\n",
      "Train  | Acc: 0.80029785 | Precision: 0.81239395 | Recall: 0.78093752 | F1: 0.79635522\n",
      "Validation  | Acc: 0.67759098 | Precision: 0.67827387 | Recall: 0.67567568 | F1: 0.67697228\n",
      "Test  | Acc: 0.68663545 | Precision: 0.68771404 | Recall: 0.68376250 | F1: 0.68573258\n",
      "current model saved to /home/paperspace/Documents/BioSentVec/rf_models/d_8_50_rf.sav\n",
      "************************************************************************\n",
      "depth = 8\n",
      "num of trees = 100\n",
      "Train  | Acc: 0.80632579 | Precision: 0.82041392 | Recall: 0.78434154 | F1: 0.80197230\n",
      "Validation  | Acc: 0.68695467 | Precision: 0.68663692 | Recall: 0.68780592 | F1: 0.68722092\n",
      "Test  | Acc: 0.69142371 | Precision: 0.69207773 | Recall: 0.68972122 | F1: 0.69089746\n",
      "current model saved to /home/paperspace/Documents/BioSentVec/rf_models/d_8_100_rf.sav\n",
      "************************************************************************\n",
      "depth = 8\n",
      "num of trees = 150\n"
     ]
    },
    {
     "name": "stdout",
     "output_type": "stream",
     "text": [
      "Train  | Acc: 0.80653854 | Precision: 0.81997187 | Recall: 0.78554712 | F1: 0.80239044\n",
      "Validation  | Acc: 0.68791232 | Precision: 0.68779243 | Recall: 0.68823154 | F1: 0.68801191\n",
      "Test  | Acc: 0.69067887 | Precision: 0.69145299 | Recall: 0.68865716 | F1: 0.69005224\n",
      "current model saved to /home/paperspace/Documents/BioSentVec/rf_models/d_8_150_rf.sav\n",
      "************************************************************************\n",
      "depth = 8\n",
      "num of trees = 200\n",
      "Train  | Acc: 0.80735409 | Precision: 0.82141798 | Recall: 0.78547621 | F1: 0.80304513\n",
      "Validation  | Acc: 0.69025325 | Precision: 0.68980892 | Recall: 0.69142371 | F1: 0.69061537\n",
      "Test  | Acc: 0.69227495 | Precision: 0.69284952 | Recall: 0.69078527 | F1: 0.69181586\n",
      "current model saved to /home/paperspace/Documents/BioSentVec/rf_models/d_8_200_rf.sav\n",
      "-----------------------------------Work done--------------------------------------\n"
     ]
    }
   ],
   "source": [
    "# Random forest\n",
    "from sklearn.ensemble import RandomForestClassifier\n",
    "depth =list(range(4,9,1)) #list(range(5,40,5))\n",
    "num_of_trees = list(range(50, 250, 50)) # list(range(20, 300, 20))\n",
    "rf_save_dir = \"/home/paperspace/Documents/BioSentVec/rf_models/\"\n",
    "for d in depth:\n",
    "    for n in num_of_trees:\n",
    "        print(\"************************************************************************\")\n",
    "        print(\"depth = \" + str(d))\n",
    "        print(\"num of trees = \" + str(n))\n",
    "        forest_model = RandomForestClassifier(n_estimators=n, max_depth = d, random_state=0,class_weight=\"balanced\", n_jobs=-1) #using all processors\n",
    "        model = forest_model.fit(train_arrays, train_labels)\n",
    "        Y_train_pred = forest_model.predict(train_arrays)\n",
    "        acc_train, pre_train, rec_train, f1_train = accuracy_score(train_labels, Y_train_pred), precision_score(train_labels, Y_train_pred), recall_score(train_labels, Y_train_pred), f1_score(train_labels, Y_train_pred)\n",
    "        print('Train  | Acc: %.8f | Precision: %.8f | Recall: %.8f | F1: %.8f' % (acc_train, pre_train, rec_train, f1_train))\n",
    "        Y_val_pred = forest_model.predict(val_arrays)\n",
    "        acc_val, pre_val, rec_val, f1_val = accuracy_score(val_labels, Y_val_pred), precision_score(val_labels, Y_val_pred), recall_score(val_labels, Y_val_pred), f1_score(val_labels, Y_val_pred)\n",
    "        print('Validation  | Acc: %.8f | Precision: %.8f | Recall: %.8f | F1: %.8f' % (acc_val, pre_val, rec_val, f1_val))\n",
    "        Y_test_pred = forest_model.predict(test_arrays)\n",
    "        acc_test, pre_test, rec_test, f1_test = accuracy_score(test_labels, Y_test_pred), precision_score(test_labels, Y_test_pred), recall_score(test_labels, Y_test_pred), f1_score(test_labels, Y_test_pred)\n",
    "        print('Test  | Acc: %.8f | Precision: %.8f | Recall: %.8f | F1: %.8f' % (acc_test, pre_test, rec_test, f1_test))\n",
    "        filename = \"d\"+\"_\" + str(d) + \"_\" + str(n) + '_rf.sav'\n",
    "        pickle.dump(model, open(rf_save_dir + filename, 'wb'))\n",
    "        print(\"current model saved to \" + rf_save_dir + filename)\n",
    "\n",
    "print(\"-----------------------------------Work done--------------------------------------\")"
   ]
  },
  {
   "cell_type": "code",
   "execution_count": 16,
   "metadata": {},
   "outputs": [
    {
     "name": "stdout",
     "output_type": "stream",
     "text": [
      "************************************************************************\n",
      "c = 1e-05\n",
      "Train  | Acc: 0.67746968 | Precision: 0.67966114 | Recall: 0.67137082 | F1: 0.67549055\n",
      "Validation  | Acc: 0.67642052 | Precision: 0.67653322 | Recall: 0.67610130 | F1: 0.67631719\n",
      "Test  | Acc: 0.68014471 | Precision: 0.68192564 | Recall: 0.67525005 | F1: 0.67857143\n",
      "current model saved to /home/paperspace/Documents/BioSentVec/svm_models_linear/c_1e-05_svm.sav\n",
      "************************************************************************\n",
      "c = 0.0001\n",
      "Train  | Acc: 0.69317779 | Precision: 0.69218287 | Recall: 0.69576626 | F1: 0.69396994\n",
      "Validation  | Acc: 0.69216855 | Precision: 0.68836045 | Recall: 0.70227708 | F1: 0.69524913\n",
      "Test  | Acc: 0.69238136 | Precision: 0.69031579 | Recall: 0.69780804 | F1: 0.69404170\n",
      "current model saved to /home/paperspace/Documents/BioSentVec/svm_models_linear/c_0.0001_svm.sav\n",
      "************************************************************************\n",
      "c = 0.001\n",
      "Train  | Acc: 0.71257358 | Precision: 0.71239283 | Recall: 0.71299908 | F1: 0.71269582\n",
      "Validation  | Acc: 0.70483082 | Precision: 0.70182428 | Recall: 0.71227921 | F1: 0.70701310\n",
      "Test  | Acc: 0.70791658 | Precision: 0.70858241 | Recall: 0.70632049 | F1: 0.70744964\n",
      "current model saved to /home/paperspace/Documents/BioSentVec/svm_models_linear/c_0.001_svm.sav\n",
      "************************************************************************\n",
      "c = 0.01\n",
      "Train  | Acc: 0.72083540 | Precision: 0.72138490 | Recall: 0.71959436 | F1: 0.72048851\n",
      "Validation  | Acc: 0.70323473 | Precision: 0.70233051 | Recall: 0.70546925 | F1: 0.70389638\n",
      "Test  | Acc: 0.70706533 | Precision: 0.70915735 | Recall: 0.70206427 | F1: 0.70559298\n",
      "current model saved to /home/paperspace/Documents/BioSentVec/svm_models_linear/c_0.01_svm.sav\n",
      "************************************************************************\n",
      "c = 0.1\n"
     ]
    },
    {
     "name": "stderr",
     "output_type": "stream",
     "text": [
      "/home/paperspace/.local/lib/python3.6/site-packages/sklearn/svm/base.py:931: ConvergenceWarning: Liblinear failed to converge, increase the number of iterations.\n",
      "  \"the number of iterations.\", ConvergenceWarning)\n"
     ]
    },
    {
     "name": "stdout",
     "output_type": "stream",
     "text": [
      "Train  | Acc: 0.72182824 | Precision: 0.72282376 | Recall: 0.71959436 | F1: 0.72120544\n",
      "Validation  | Acc: 0.70121302 | Precision: 0.70010582 | Recall: 0.70397957 | F1: 0.70203735\n",
      "Test  | Acc: 0.70589487 | Precision: 0.70864783 | Recall: 0.69929772 | F1: 0.70394173\n",
      "current model saved to /home/paperspace/Documents/BioSentVec/svm_models_linear/c_0.1_svm.sav\n",
      "************************************************************************\n",
      "c = 1\n"
     ]
    },
    {
     "name": "stderr",
     "output_type": "stream",
     "text": [
      "/home/paperspace/.local/lib/python3.6/site-packages/sklearn/svm/base.py:931: ConvergenceWarning: Liblinear failed to converge, increase the number of iterations.\n",
      "  \"the number of iterations.\", ConvergenceWarning)\n"
     ]
    },
    {
     "name": "stdout",
     "output_type": "stream",
     "text": [
      "Train  | Acc: 0.72154457 | Precision: 0.72225384 | Recall: 0.71994894 | F1: 0.72109955\n",
      "Validation  | Acc: 0.70142584 | Precision: 0.70040229 | Recall: 0.70397957 | F1: 0.70218637\n",
      "Test  | Acc: 0.70515003 | Precision: 0.70784821 | Recall: 0.69865929 | F1: 0.70322373\n",
      "current model saved to /home/paperspace/Documents/BioSentVec/svm_models_linear/c_1_svm.sav\n",
      "************************************************************************\n",
      "c = 10\n"
     ]
    },
    {
     "name": "stderr",
     "output_type": "stream",
     "text": [
      "/home/paperspace/.local/lib/python3.6/site-packages/sklearn/svm/base.py:931: ConvergenceWarning: Liblinear failed to converge, increase the number of iterations.\n",
      "  \"the number of iterations.\", ConvergenceWarning)\n"
     ]
    },
    {
     "name": "stdout",
     "output_type": "stream",
     "text": [
      "Train  | Acc: 0.71048153 | Precision: 0.74216710 | Recall: 0.64506063 | F1: 0.69021512\n",
      "Validation  | Acc: 0.69578634 | Precision: 0.72190063 | Recall: 0.63694403 | F1: 0.67676653\n",
      "Test  | Acc: 0.69876569 | Precision: 0.72747199 | Recall: 0.63566716 | F1: 0.67847814\n",
      "current model saved to /home/paperspace/Documents/BioSentVec/svm_models_linear/c_10_svm.sav\n",
      "************************************************************************\n",
      "c = 100\n"
     ]
    },
    {
     "name": "stderr",
     "output_type": "stream",
     "text": [
      "/home/paperspace/.local/lib/python3.6/site-packages/sklearn/svm/base.py:931: ConvergenceWarning: Liblinear failed to converge, increase the number of iterations.\n",
      "  \"the number of iterations.\", ConvergenceWarning)\n"
     ]
    },
    {
     "name": "stdout",
     "output_type": "stream",
     "text": [
      "Train  | Acc: 0.62825332 | Precision: 0.66460362 | Recall: 0.51783561 | F1: 0.58211097\n",
      "Validation  | Acc: 0.62523941 | Precision: 0.65790180 | Recall: 0.52181315 | F1: 0.58200807\n",
      "Test  | Acc: 0.61342839 | Precision: 0.64570804 | Recall: 0.50266014 | F1: 0.56527462\n",
      "current model saved to /home/paperspace/Documents/BioSentVec/svm_models_linear/c_100_svm.sav\n",
      "************************************************************************\n",
      "c = 1000\n",
      "Train  | Acc: 0.62970711 | Precision: 0.60879134 | Recall: 0.72583505 | F1: 0.66218096\n",
      "Validation  | Acc: 0.61896148 | Precision: 0.59862385 | Recall: 0.72206853 | F1: 0.65457702\n",
      "Test  | Acc: 0.62140881 | Precision: 0.60056408 | Recall: 0.72504788 | F1: 0.65696105\n",
      "current model saved to /home/paperspace/Documents/BioSentVec/svm_models_linear/c_1000_svm.sav\n",
      "-----------------------------------Work done--------------------------------------\n"
     ]
    },
    {
     "name": "stderr",
     "output_type": "stream",
     "text": [
      "/home/paperspace/.local/lib/python3.6/site-packages/sklearn/svm/base.py:931: ConvergenceWarning: Liblinear failed to converge, increase the number of iterations.\n",
      "  \"the number of iterations.\", ConvergenceWarning)\n"
     ]
    }
   ],
   "source": [
    "# SVM\n",
    "from sklearn import svm\n",
    "C_values = [0.00001, 0.0001, 0.001, 0.01, 0.1, 1, 10, 100, 1000]\n",
    "svm_save_dir = \"/home/paperspace/Documents/BioSentVec/svm_models_linear/\"\n",
    "for c in C_values:\n",
    "        print(\"************************************************************************\")\n",
    "        print(\"c = \" + str(c))\n",
    "        svm_model = svm.LinearSVC(random_state=0, C=c)\n",
    "        model = svm_model.fit(train_arrays, train_labels)\n",
    "        Y_train_pred = svm_model.predict(train_arrays)\n",
    "        acc_train, pre_train, rec_train, f1_train = accuracy_score(train_labels, Y_train_pred), precision_score(train_labels, Y_train_pred), recall_score(train_labels, Y_train_pred), f1_score(train_labels, Y_train_pred)\n",
    "        print('Train  | Acc: %.8f | Precision: %.8f | Recall: %.8f | F1: %.8f' % (acc_train, pre_train, rec_train, f1_train))\n",
    "        Y_val_pred = svm_model.predict(val_arrays)\n",
    "        acc_val, pre_val, rec_val, f1_val = accuracy_score(val_labels, Y_val_pred), precision_score(val_labels, Y_val_pred), recall_score(val_labels, Y_val_pred), f1_score(val_labels, Y_val_pred)\n",
    "        print('Validation  | Acc: %.8f | Precision: %.8f | Recall: %.8f | F1: %.8f' % (acc_val, pre_val, rec_val, f1_val))\n",
    "        Y_test_pred = svm_model.predict(test_arrays)\n",
    "        acc_test, pre_test, rec_test, f1_test = accuracy_score(test_labels, Y_test_pred), precision_score(test_labels, Y_test_pred), recall_score(test_labels, Y_test_pred), f1_score(test_labels, Y_test_pred)\n",
    "        print('Test  | Acc: %.8f | Precision: %.8f | Recall: %.8f | F1: %.8f' % (acc_test, pre_test, rec_test, f1_test))\n",
    "        filename = \"c\"+\"_\" + str(c) + '_svm.sav'\n",
    "        pickle.dump(model, open(svm_save_dir + filename, 'wb'))\n",
    "        print(\"current model saved to \" + svm_save_dir + filename)\n",
    "\n",
    "print(\"-----------------------------------Work done--------------------------------------\")"
   ]
  },
  {
   "cell_type": "code",
   "execution_count": null,
   "metadata": {},
   "outputs": [
    {
     "name": "stdout",
     "output_type": "stream",
     "text": [
      "************************************************************************\n",
      "c = 0.0005\n",
      "gamma = 0.0001\n",
      "Train  | Acc: 0.65435076 | Precision: 0.62402416 | Recall: 0.77661159 | F1: 0.69200632\n",
      "Validation  | Acc: 0.65141519 | Precision: 0.62152007 | Recall: 0.77442009 | F1: 0.68959636\n",
      "Test  | Acc: 0.65428815 | Precision: 0.62388927 | Recall: 0.77697382 | F1: 0.69206710\n",
      "current model saved to /home/paperspace/Documents/BioSentVec/svm_models/c_0.0005_g_0.0001_svm.sav\n",
      "************************************************************************\n",
      "c = 0.0005\n",
      "gamma = 0.001\n",
      "Train  | Acc: 0.66697397 | Precision: 0.64733121 | Recall: 0.73363591 | F1: 0.68778672\n",
      "Validation  | Acc: 0.66429027 | Precision: 0.64473191 | Recall: 0.73185784 | F1: 0.68553773\n",
      "Test  | Acc: 0.66577995 | Precision: 0.64626361 | Recall: 0.73249628 | F1: 0.68668329\n",
      "current model saved to /home/paperspace/Documents/BioSentVec/svm_models/c_0.0005_g_0.001_svm.sav\n",
      "************************************************************************\n",
      "c = 0.0005\n",
      "gamma = 0.01\n",
      "Train  | Acc: 0.66435005 | Precision: 0.63674987 | Recall: 0.76526487 | F1: 0.69511724\n",
      "Validation  | Acc: 0.65992764 | Precision: 0.63284426 | Recall: 0.76186423 | F1: 0.69138664\n",
      "Test  | Acc: 0.66099170 | Precision: 0.63472841 | Recall: 0.75845925 | F1: 0.69109948\n",
      "current model saved to /home/paperspace/Documents/BioSentVec/svm_models/c_0.0005_g_0.01_svm.sav\n",
      "************************************************************************\n",
      "c = 0.0005\n",
      "gamma = 0.1\n",
      "Train  | Acc: 0.55641444 | Precision: 0.53111676 | Recall: 0.96291043 | F1: 0.68461655\n",
      "Validation  | Acc: 0.55086189 | Precision: 0.52784250 | Recall: 0.96424771 | F1: 0.68222540\n",
      "Test  | Acc: 0.55852309 | Precision: 0.53222404 | Recall: 0.96658864 | F1: 0.68646565\n",
      "current model saved to /home/paperspace/Documents/BioSentVec/svm_models/c_0.0005_g_0.1_svm.sav\n",
      "************************************************************************\n",
      "c = 0.0005\n",
      "gamma = 1\n",
      "Train  | Acc: 0.50070917 | Precision: 0.50035484 | Recall: 1.00000000 | F1: 0.66698200\n",
      "Validation  | Acc: 0.50010641 | Precision: 0.50005321 | Recall: 1.00000000 | F1: 0.66671396\n",
      "Test  | Acc: 0.50031922 | Precision: 0.50015966 | Recall: 1.00000000 | F1: 0.66680857\n",
      "current model saved to /home/paperspace/Documents/BioSentVec/svm_models/c_0.0005_g_1_svm.sav\n",
      "************************************************************************\n",
      "c = 0.0005\n",
      "gamma = 10\n",
      "Train  | Acc: 0.99996454 | Precision: 0.99992909 | Recall: 1.00000000 | F1: 0.99996454\n",
      "Validation  | Acc: 0.68099596 | Precision: 0.68837209 | Recall: 0.66141732 | F1: 0.67462557\n",
      "Test  | Acc: 0.67024899 | Precision: 0.67714792 | Recall: 0.65077676 | F1: 0.66370049\n",
      "current model saved to /home/paperspace/Documents/BioSentVec/svm_models/c_0.0005_g_10_svm.sav\n",
      "************************************************************************\n",
      "c = 0.0005\n",
      "gamma = 100\n",
      "Train  | Acc: 0.99996454 | Precision: 0.99992909 | Recall: 1.00000000 | F1: 0.99996454\n",
      "Validation  | Acc: 0.50978932 | Precision: 0.50496653 | Recall: 0.99531815 | F1: 0.67000931\n",
      "Test  | Acc: 0.50840604 | Precision: 0.50426060 | Recall: 0.99489253 | F1: 0.66929134\n",
      "current model saved to /home/paperspace/Documents/BioSentVec/svm_models/c_0.0005_g_100_svm.sav\n",
      "************************************************************************\n",
      "c = 0.0005\n",
      "gamma = 1000\n",
      "Train  | Acc: 0.99996454 | Precision: 0.99992909 | Recall: 1.00000000 | F1: 0.99996454\n",
      "Validation  | Acc: 0.50095765 | Precision: 0.50047939 | Recall: 0.99978719 | F1: 0.66704529\n",
      "Test  | Acc: 0.50074484 | Precision: 0.50037278 | Recall: 0.99978719 | F1: 0.66695060\n",
      "current model saved to /home/paperspace/Documents/BioSentVec/svm_models/c_0.0005_g_1000_svm.sav\n",
      "************************************************************************\n",
      "c = 0.01\n",
      "gamma = 0.0001\n",
      "Train  | Acc: 0.65435076 | Precision: 0.62402416 | Recall: 0.77661159 | F1: 0.69200632\n",
      "Validation  | Acc: 0.65141519 | Precision: 0.62152007 | Recall: 0.77442009 | F1: 0.68959636\n",
      "Test  | Acc: 0.65428815 | Precision: 0.62388927 | Recall: 0.77697382 | F1: 0.69206710\n",
      "current model saved to /home/paperspace/Documents/BioSentVec/svm_models/c_0.01_g_0.0001_svm.sav\n",
      "************************************************************************\n",
      "c = 0.01\n",
      "gamma = 0.001\n",
      "Train  | Acc: 0.66697397 | Precision: 0.64733121 | Recall: 0.73363591 | F1: 0.68778672\n",
      "Validation  | Acc: 0.66429027 | Precision: 0.64473191 | Recall: 0.73185784 | F1: 0.68553773\n",
      "Test  | Acc: 0.66577995 | Precision: 0.64626361 | Recall: 0.73249628 | F1: 0.68668329\n",
      "current model saved to /home/paperspace/Documents/BioSentVec/svm_models/c_0.01_g_0.001_svm.sav\n",
      "************************************************************************\n",
      "c = 0.01\n",
      "gamma = 0.01\n",
      "Train  | Acc: 0.67800156 | Precision: 0.66662241 | Recall: 0.71214807 | F1: 0.68863364\n",
      "Validation  | Acc: 0.67397319 | Precision: 0.66217020 | Recall: 0.71036391 | F1: 0.68542094\n",
      "Test  | Acc: 0.67695254 | Precision: 0.66606751 | Recall: 0.70972547 | F1: 0.68720379\n",
      "current model saved to /home/paperspace/Documents/BioSentVec/svm_models/c_0.01_g_0.01_svm.sav\n",
      "************************************************************************\n",
      "c = 0.01\n",
      "gamma = 0.1\n",
      "Train  | Acc: 0.59655344 | Precision: 0.55866764 | Recall: 0.91943834 | F1: 0.69502520\n",
      "Validation  | Acc: 0.59023196 | Precision: 0.55454078 | Recall: 0.91742924 | F1: 0.69125311\n",
      "Test  | Acc: 0.59608427 | Precision: 0.55838614 | Recall: 0.91891892 | F1: 0.69465894\n",
      "current model saved to /home/paperspace/Documents/BioSentVec/svm_models/c_0.01_g_0.1_svm.sav\n",
      "************************************************************************\n",
      "c = 0.01\n",
      "gamma = 1\n",
      "Train  | Acc: 0.50070917 | Precision: 0.50035484 | Recall: 1.00000000 | F1: 0.66698200\n",
      "Validation  | Acc: 0.50010641 | Precision: 0.50005321 | Recall: 1.00000000 | F1: 0.66671396\n",
      "Test  | Acc: 0.50031922 | Precision: 0.50015966 | Recall: 1.00000000 | F1: 0.66680857\n",
      "current model saved to /home/paperspace/Documents/BioSentVec/svm_models/c_0.01_g_1_svm.sav\n",
      "************************************************************************\n",
      "c = 0.01\n",
      "gamma = 10\n",
      "Train  | Acc: 0.99996454 | Precision: 0.99992909 | Recall: 1.00000000 | F1: 0.99996454\n",
      "Validation  | Acc: 0.68099596 | Precision: 0.68837209 | Recall: 0.66141732 | F1: 0.67462557\n",
      "Test  | Acc: 0.67024899 | Precision: 0.67714792 | Recall: 0.65077676 | F1: 0.66370049\n",
      "current model saved to /home/paperspace/Documents/BioSentVec/svm_models/c_0.01_g_10_svm.sav\n",
      "************************************************************************\n",
      "c = 0.01\n",
      "gamma = 100\n",
      "Train  | Acc: 0.99996454 | Precision: 0.99992909 | Recall: 1.00000000 | F1: 0.99996454\n",
      "Validation  | Acc: 0.51010853 | Precision: 0.50513014 | Recall: 0.99531815 | F1: 0.67015332\n",
      "Test  | Acc: 0.50872526 | Precision: 0.50442382 | Recall: 0.99489253 | F1: 0.66943510\n",
      "current model saved to /home/paperspace/Documents/BioSentVec/svm_models/c_0.01_g_100_svm.sav\n",
      "************************************************************************\n",
      "c = 0.01\n",
      "gamma = 1000\n",
      "Train  | Acc: 0.99996454 | Precision: 0.99992909 | Recall: 1.00000000 | F1: 0.99996454\n",
      "Validation  | Acc: 0.50095765 | Precision: 0.50047939 | Recall: 0.99978719 | F1: 0.66704529\n",
      "Test  | Acc: 0.50074484 | Precision: 0.50037278 | Recall: 0.99978719 | F1: 0.66695060\n",
      "current model saved to /home/paperspace/Documents/BioSentVec/svm_models/c_0.01_g_1000_svm.sav\n",
      "************************************************************************\n",
      "c = 0.05\n",
      "gamma = 0.0001\n",
      "Train  | Acc: 0.65435076 | Precision: 0.62402416 | Recall: 0.77661159 | F1: 0.69200632\n",
      "Validation  | Acc: 0.65141519 | Precision: 0.62152007 | Recall: 0.77442009 | F1: 0.68959636\n",
      "Test  | Acc: 0.65428815 | Precision: 0.62388927 | Recall: 0.77697382 | F1: 0.69206710\n",
      "current model saved to /home/paperspace/Documents/BioSentVec/svm_models/c_0.05_g_0.0001_svm.sav\n",
      "************************************************************************\n",
      "c = 0.05\n",
      "gamma = 0.001\n",
      "Train  | Acc: 0.67144174 | Precision: 0.65613899 | Recall: 0.72044536 | F1: 0.68679016\n",
      "Validation  | Acc: 0.66737604 | Precision: 0.65198068 | Recall: 0.71802511 | F1: 0.68341098\n",
      "Test  | Acc: 0.67237710 | Precision: 0.65734266 | Recall: 0.72015322 | F1: 0.68731593\n",
      "current model saved to /home/paperspace/Documents/BioSentVec/svm_models/c_0.05_g_0.001_svm.sav\n",
      "************************************************************************\n",
      "c = 0.05\n",
      "gamma = 0.01\n"
     ]
    },
    {
     "name": "stdout",
     "output_type": "stream",
     "text": [
      "Train  | Acc: 0.69604993 | Precision: 0.69519170 | Recall: 0.69824835 | F1: 0.69671667\n",
      "Validation  | Acc: 0.69099808 | Precision: 0.68819459 | Recall: 0.69844648 | F1: 0.69328264\n",
      "Test  | Acc: 0.69631837 | Precision: 0.69474351 | Recall: 0.70036178 | F1: 0.69754133\n",
      "current model saved to /home/paperspace/Documents/BioSentVec/svm_models/c_0.05_g_0.01_svm.sav\n",
      "************************************************************************\n",
      "c = 0.05\n",
      "gamma = 0.1\n",
      "Train  | Acc: 0.67640593 | Precision: 0.63345673 | Recall: 0.83731650 | F1: 0.72125840\n",
      "Validation  | Acc: 0.65535220 | Precision: 0.61594663 | Recall: 0.82528197 | F1: 0.70541155\n",
      "Test  | Acc: 0.65801234 | Precision: 0.61870504 | Recall: 0.82357948 | F1: 0.70659120\n",
      "current model saved to /home/paperspace/Documents/BioSentVec/svm_models/c_0.05_g_0.1_svm.sav\n",
      "************************************************************************\n",
      "c = 0.05\n",
      "gamma = 1\n",
      "Train  | Acc: 0.50070917 | Precision: 0.50035484 | Recall: 1.00000000 | F1: 0.66698200\n",
      "Validation  | Acc: 0.50010641 | Precision: 0.50005321 | Recall: 1.00000000 | F1: 0.66671396\n",
      "Test  | Acc: 0.50031922 | Precision: 0.50015966 | Recall: 1.00000000 | F1: 0.66680857\n",
      "current model saved to /home/paperspace/Documents/BioSentVec/svm_models/c_0.05_g_1_svm.sav\n",
      "************************************************************************\n",
      "c = 0.05\n",
      "gamma = 10\n",
      "Train  | Acc: 0.99996454 | Precision: 0.99992909 | Recall: 1.00000000 | F1: 0.99996454\n",
      "Validation  | Acc: 0.68099596 | Precision: 0.68837209 | Recall: 0.66141732 | F1: 0.67462557\n",
      "Test  | Acc: 0.67024899 | Precision: 0.67714792 | Recall: 0.65077676 | F1: 0.66370049\n",
      "current model saved to /home/paperspace/Documents/BioSentVec/svm_models/c_0.05_g_10_svm.sav\n",
      "************************************************************************\n",
      "c = 0.05\n",
      "gamma = 100\n",
      "Train  | Acc: 0.99996454 | Precision: 0.99992909 | Recall: 1.00000000 | F1: 0.99996454\n",
      "Validation  | Acc: 0.51010853 | Precision: 0.50513014 | Recall: 0.99531815 | F1: 0.67015332\n",
      "Test  | Acc: 0.50872526 | Precision: 0.50442382 | Recall: 0.99489253 | F1: 0.66943510\n",
      "current model saved to /home/paperspace/Documents/BioSentVec/svm_models/c_0.05_g_100_svm.sav\n",
      "************************************************************************\n",
      "c = 0.05\n",
      "gamma = 1000\n",
      "Train  | Acc: 0.99996454 | Precision: 0.99992909 | Recall: 1.00000000 | F1: 0.99996454\n",
      "Validation  | Acc: 0.50095765 | Precision: 0.50047939 | Recall: 0.99978719 | F1: 0.66704529\n",
      "Test  | Acc: 0.50074484 | Precision: 0.50037278 | Recall: 0.99978719 | F1: 0.66695060\n",
      "current model saved to /home/paperspace/Documents/BioSentVec/svm_models/c_0.05_g_1000_svm.sav\n",
      "************************************************************************\n",
      "c = 0.1\n",
      "gamma = 0.0001\n",
      "Train  | Acc: 0.65435076 | Precision: 0.62402416 | Recall: 0.77661159 | F1: 0.69200632\n",
      "Validation  | Acc: 0.65141519 | Precision: 0.62152007 | Recall: 0.77442009 | F1: 0.68959636\n",
      "Test  | Acc: 0.65428815 | Precision: 0.62388927 | Recall: 0.77697382 | F1: 0.69206710\n",
      "current model saved to /home/paperspace/Documents/BioSentVec/svm_models/c_0.1_g_0.0001_svm.sav\n",
      "************************************************************************\n",
      "c = 0.1\n",
      "gamma = 0.001\n",
      "Train  | Acc: 0.68044820 | Precision: 0.67320128 | Recall: 0.70136870 | F1: 0.68699639\n",
      "Validation  | Acc: 0.67822941 | Precision: 0.66950010 | Recall: 0.70397957 | F1: 0.68630705\n",
      "Test  | Acc: 0.67971909 | Precision: 0.67294696 | Recall: 0.69929772 | F1: 0.68586934\n",
      "current model saved to /home/paperspace/Documents/BioSentVec/svm_models/c_0.1_g_0.001_svm.sav\n",
      "************************************************************************\n",
      "c = 0.1\n",
      "gamma = 0.01\n",
      "Train  | Acc: 0.70597830 | Precision: 0.70586151 | Recall: 0.70626197 | F1: 0.70606168\n",
      "Validation  | Acc: 0.70068100 | Precision: 0.69919730 | Recall: 0.70440519 | F1: 0.70179158\n",
      "Test  | Acc: 0.70440519 | Precision: 0.70501601 | Recall: 0.70291551 | F1: 0.70396419\n",
      "current model saved to /home/paperspace/Documents/BioSentVec/svm_models/c_0.1_g_0.01_svm.sav\n",
      "************************************************************************\n",
      "c = 0.1\n",
      "gamma = 0.1\n",
      "Train  | Acc: 0.71041061 | Precision: 0.66983400 | Recall: 0.82987022 | F1: 0.74131323\n",
      "Validation  | Acc: 0.67344116 | Precision: 0.63637885 | Recall: 0.80932113 | F1: 0.71250585\n",
      "Test  | Acc: 0.67482443 | Precision: 0.63902522 | Recall: 0.80357523 | F1: 0.71191554\n",
      "current model saved to /home/paperspace/Documents/BioSentVec/svm_models/c_0.1_g_0.1_svm.sav\n",
      "************************************************************************\n",
      "c = 0.1\n",
      "gamma = 1\n",
      "Train  | Acc: 0.50070917 | Precision: 0.50035484 | Recall: 1.00000000 | F1: 0.66698200\n",
      "Validation  | Acc: 0.50010641 | Precision: 0.50005321 | Recall: 1.00000000 | F1: 0.66671396\n",
      "Test  | Acc: 0.50031922 | Precision: 0.50015966 | Recall: 1.00000000 | F1: 0.66680857\n",
      "current model saved to /home/paperspace/Documents/BioSentVec/svm_models/c_0.1_g_1_svm.sav\n",
      "************************************************************************\n",
      "c = 0.1\n",
      "gamma = 10\n",
      "Train  | Acc: 0.99996454 | Precision: 0.99992909 | Recall: 1.00000000 | F1: 0.99996454\n",
      "Validation  | Acc: 0.68099596 | Precision: 0.68837209 | Recall: 0.66141732 | F1: 0.67462557\n",
      "Test  | Acc: 0.67024899 | Precision: 0.67714792 | Recall: 0.65077676 | F1: 0.66370049\n",
      "current model saved to /home/paperspace/Documents/BioSentVec/svm_models/c_0.1_g_10_svm.sav\n",
      "************************************************************************\n",
      "c = 0.1\n",
      "gamma = 100\n",
      "Train  | Acc: 0.99996454 | Precision: 0.99992909 | Recall: 1.00000000 | F1: 0.99996454\n",
      "Validation  | Acc: 0.51021494 | Precision: 0.50518471 | Recall: 0.99531815 | F1: 0.67020133\n",
      "Test  | Acc: 0.50872526 | Precision: 0.50442382 | Recall: 0.99489253 | F1: 0.66943510\n",
      "current model saved to /home/paperspace/Documents/BioSentVec/svm_models/c_0.1_g_100_svm.sav\n",
      "************************************************************************\n",
      "c = 0.1\n",
      "gamma = 1000\n",
      "Train  | Acc: 0.99996454 | Precision: 0.99992909 | Recall: 1.00000000 | F1: 0.99996454\n",
      "Validation  | Acc: 0.50095765 | Precision: 0.50047939 | Recall: 0.99978719 | F1: 0.66704529\n",
      "Test  | Acc: 0.50074484 | Precision: 0.50037278 | Recall: 0.99978719 | F1: 0.66695060\n",
      "current model saved to /home/paperspace/Documents/BioSentVec/svm_models/c_0.1_g_1000_svm.sav\n",
      "************************************************************************\n",
      "c = 0.2\n",
      "gamma = 0.0001\n",
      "Train  | Acc: 0.65417346 | Precision: 0.62348063 | Recall: 0.77845543 | F1: 0.69240231\n",
      "Validation  | Acc: 0.65013833 | Precision: 0.61988105 | Recall: 0.77633539 | F1: 0.68934240\n",
      "Test  | Acc: 0.65428815 | Precision: 0.62346730 | Recall: 0.77910194 | F1: 0.69264970\n",
      "current model saved to /home/paperspace/Documents/BioSentVec/svm_models/c_0.2_g_0.0001_svm.sav\n",
      "************************************************************************\n",
      "c = 0.2\n",
      "gamma = 0.001\n",
      "Train  | Acc: 0.68800085 | Precision: 0.68507400 | Recall: 0.69590809 | F1: 0.69044855\n",
      "Validation  | Acc: 0.68376250 | Precision: 0.67940993 | Recall: 0.69589274 | F1: 0.68755257\n",
      "Test  | Acc: 0.68823154 | Precision: 0.68515805 | Recall: 0.69653118 | F1: 0.69079780\n",
      "current model saved to /home/paperspace/Documents/BioSentVec/svm_models/c_0.2_g_0.001_svm.sav\n",
      "************************************************************************\n",
      "c = 0.2\n",
      "gamma = 0.01\n",
      "Train  | Acc: 0.71736047 | Precision: 0.71864745 | Recall: 0.71441742 | F1: 0.71652619\n",
      "Validation  | Acc: 0.70791658 | Precision: 0.70769558 | Recall: 0.70844861 | F1: 0.70807189\n",
      "Test  | Acc: 0.71025750 | Precision: 0.71210820 | Recall: 0.70589487 | F1: 0.70898792\n",
      "current model saved to /home/paperspace/Documents/BioSentVec/svm_models/c_0.2_g_0.01_svm.sav\n",
      "************************************************************************\n",
      "c = 0.2\n",
      "gamma = 0.1\n",
      "Train  | Acc: 0.76214453 | Precision: 0.72698803 | Recall: 0.83958584 | F1: 0.77924044\n",
      "Validation  | Acc: 0.69333901 | Precision: 0.66082492 | Recall: 0.79442435 | F1: 0.72149208\n",
      "Test  | Acc: 0.69653118 | Precision: 0.66476360 | Recall: 0.79293467 | F1: 0.72321429\n",
      "current model saved to /home/paperspace/Documents/BioSentVec/svm_models/c_0.2_g_0.1_svm.sav\n",
      "************************************************************************\n",
      "c = 0.2\n",
      "gamma = 1\n",
      "Train  | Acc: 0.50070917 | Precision: 0.50035484 | Recall: 1.00000000 | F1: 0.66698200\n"
     ]
    },
    {
     "name": "stdout",
     "output_type": "stream",
     "text": [
      "Validation  | Acc: 0.50010641 | Precision: 0.50005321 | Recall: 1.00000000 | F1: 0.66671396\n",
      "Test  | Acc: 0.50031922 | Precision: 0.50015966 | Recall: 1.00000000 | F1: 0.66680857\n",
      "current model saved to /home/paperspace/Documents/BioSentVec/svm_models/c_0.2_g_1_svm.sav\n",
      "************************************************************************\n",
      "c = 0.2\n",
      "gamma = 10\n",
      "Train  | Acc: 0.99996454 | Precision: 0.99992909 | Recall: 1.00000000 | F1: 0.99996454\n",
      "Validation  | Acc: 0.68110236 | Precision: 0.68852459 | Recall: 0.66141732 | F1: 0.67469880\n",
      "Test  | Acc: 0.67024899 | Precision: 0.67714792 | Recall: 0.65077676 | F1: 0.66370049\n",
      "current model saved to /home/paperspace/Documents/BioSentVec/svm_models/c_0.2_g_10_svm.sav\n",
      "************************************************************************\n",
      "c = 0.2\n",
      "gamma = 100\n",
      "Train  | Acc: 0.99996454 | Precision: 0.99992909 | Recall: 1.00000000 | F1: 0.99996454\n",
      "Validation  | Acc: 0.51053416 | Precision: 0.50534846 | Recall: 0.99531815 | F1: 0.67034542\n",
      "Test  | Acc: 0.50872526 | Precision: 0.50442382 | Recall: 0.99489253 | F1: 0.66943510\n",
      "current model saved to /home/paperspace/Documents/BioSentVec/svm_models/c_0.2_g_100_svm.sav\n",
      "************************************************************************\n",
      "c = 0.2\n",
      "gamma = 1000\n",
      "Train  | Acc: 0.99996454 | Precision: 0.99992909 | Recall: 1.00000000 | F1: 0.99996454\n",
      "Validation  | Acc: 0.50095765 | Precision: 0.50047939 | Recall: 0.99978719 | F1: 0.66704529\n",
      "Test  | Acc: 0.50074484 | Precision: 0.50037278 | Recall: 0.99978719 | F1: 0.66695060\n",
      "current model saved to /home/paperspace/Documents/BioSentVec/svm_models/c_0.2_g_1000_svm.sav\n",
      "************************************************************************\n",
      "c = 0.5\n",
      "gamma = 0.0001\n",
      "Train  | Acc: 0.67186724 | Precision: 0.65715583 | Recall: 0.71867243 | F1: 0.68653885\n",
      "Validation  | Acc: 0.66758885 | Precision: 0.65270506 | Recall: 0.71632262 | F1: 0.68303571\n",
      "Test  | Acc: 0.67280272 | Precision: 0.65853182 | Recall: 0.71781230 | F1: 0.68689543\n",
      "current model saved to /home/paperspace/Documents/BioSentVec/svm_models/c_0.5_g_0.0001_svm.sav\n",
      "************************************************************************\n",
      "c = 0.5\n",
      "gamma = 0.001\n",
      "Train  | Acc: 0.69828381 | Precision: 0.69960023 | Recall: 0.69498617 | F1: 0.69728557\n",
      "Validation  | Acc: 0.69578634 | Precision: 0.69409283 | Recall: 0.70014897 | F1: 0.69710774\n",
      "Test  | Acc: 0.69823367 | Precision: 0.69798087 | Recall: 0.69887210 | F1: 0.69842620\n",
      "current model saved to /home/paperspace/Documents/BioSentVec/svm_models/c_0.5_g_0.001_svm.sav\n",
      "************************************************************************\n",
      "c = 0.5\n",
      "gamma = 0.01\n",
      "Train  | Acc: 0.73406141 | Precision: 0.73556491 | Recall: 0.73087015 | F1: 0.73321002\n",
      "Validation  | Acc: 0.71493935 | Precision: 0.71516830 | Recall: 0.71440732 | F1: 0.71478761\n",
      "Test  | Acc: 0.71493935 | Precision: 0.71739130 | Recall: 0.70929985 | F1: 0.71332263\n",
      "current model saved to /home/paperspace/Documents/BioSentVec/svm_models/c_0.5_g_0.01_svm.sav\n",
      "************************************************************************\n",
      "c = 0.5\n",
      "gamma = 0.1\n",
      "Train  | Acc: 0.88380257 | Precision: 0.88096579 | Recall: 0.88752571 | F1: 0.88423358\n",
      "Validation  | Acc: 0.72015322 | Precision: 0.69746135 | Recall: 0.77761226 | F1: 0.73535923\n",
      "Test  | Acc: 0.72270696 | Precision: 0.70159892 | Recall: 0.77505852 | F1: 0.73650152\n",
      "current model saved to /home/paperspace/Documents/BioSentVec/svm_models/c_0.5_g_0.1_svm.sav\n",
      "************************************************************************\n",
      "c = 0.5\n",
      "gamma = 1\n",
      "Train  | Acc: 0.99996454 | Precision: 0.99992909 | Recall: 1.00000000 | F1: 0.99996454\n",
      "Validation  | Acc: 0.50095765 | Precision: 0.50047939 | Recall: 0.99978719 | F1: 0.66704529\n",
      "Test  | Acc: 0.50085124 | Precision: 0.50042608 | Recall: 0.99978719 | F1: 0.66699794\n",
      "current model saved to /home/paperspace/Documents/BioSentVec/svm_models/c_0.5_g_1_svm.sav\n",
      "************************************************************************\n",
      "c = 0.5\n",
      "gamma = 10\n",
      "Train  | Acc: 0.99996454 | Precision: 0.99992909 | Recall: 1.00000000 | F1: 0.99996454\n",
      "Validation  | Acc: 0.50042562 | Precision: 0.83333333 | Recall: 0.00106406 | F1: 0.00212540\n",
      "Test  | Acc: 0.50031922 | Precision: 1.00000000 | Recall: 0.00063843 | F1: 0.00127605\n",
      "current model saved to /home/paperspace/Documents/BioSentVec/svm_models/c_0.5_g_10_svm.sav\n",
      "************************************************************************\n",
      "c = 0.5\n",
      "gamma = 100\n",
      "Train  | Acc: 0.99996454 | Precision: 0.99992909 | Recall: 1.00000000 | F1: 0.99996454\n",
      "Validation  | Acc: 0.51042775 | Precision: 0.50529501 | Recall: 0.99510534 | F1: 0.67025013\n",
      "Test  | Acc: 0.50872526 | Precision: 0.50442382 | Recall: 0.99489253 | F1: 0.66943510\n",
      "current model saved to /home/paperspace/Documents/BioSentVec/svm_models/c_0.5_g_100_svm.sav\n",
      "************************************************************************\n",
      "c = 0.5\n",
      "gamma = 1000\n",
      "Train  | Acc: 0.99996454 | Precision: 0.99992909 | Recall: 1.00000000 | F1: 0.99996454\n",
      "Validation  | Acc: 0.50095765 | Precision: 0.50047939 | Recall: 0.99978719 | F1: 0.66704529\n",
      "Test  | Acc: 0.50074484 | Precision: 0.50037278 | Recall: 0.99978719 | F1: 0.66695060\n",
      "current model saved to /home/paperspace/Documents/BioSentVec/svm_models/c_0.5_g_1000_svm.sav\n",
      "************************************************************************\n",
      "c = 1\n",
      "gamma = 0.0001\n",
      "Train  | Acc: 0.68005815 | Precision: 0.67227575 | Recall: 0.70264520 | F1: 0.68712507\n",
      "Validation  | Acc: 0.67844222 | Precision: 0.66983998 | Recall: 0.70376676 | F1: 0.68638439\n",
      "Test  | Acc: 0.67961268 | Precision: 0.67245607 | Recall: 0.70036178 | F1: 0.68612530\n",
      "current model saved to /home/paperspace/Documents/BioSentVec/svm_models/c_1_g_0.0001_svm.sav\n",
      "************************************************************************\n",
      "c = 1\n",
      "gamma = 0.001\n",
      "Train  | Acc: 0.70519821 | Precision: 0.70648683 | Recall: 0.70207787 | F1: 0.70427545\n",
      "Validation  | Acc: 0.70110662 | Precision: 0.70029674 | Recall: 0.70312833 | F1: 0.70170967\n",
      "Test  | Acc: 0.70525644 | Precision: 0.70604572 | Recall: 0.70334114 | F1: 0.70469083\n",
      "current model saved to /home/paperspace/Documents/BioSentVec/svm_models/c_1_g_0.001_svm.sav\n",
      "************************************************************************\n",
      "c = 1\n",
      "gamma = 0.01\n",
      "Train  | Acc: 0.74941494 | Precision: 0.75236797 | Recall: 0.74356429 | F1: 0.74794022\n",
      "Validation  | Acc: 0.71823792 | Precision: 0.72001716 | Recall: 0.71419451 | F1: 0.71709402\n",
      "Test  | Acc: 0.72132369 | Precision: 0.72462203 | Recall: 0.71398170 | F1: 0.71926251\n",
      "current model saved to /home/paperspace/Documents/BioSentVec/svm_models/c_1_g_0.01_svm.sav\n",
      "************************************************************************\n",
      "c = 1\n",
      "gamma = 0.1\n",
      "Train  | Acc: 0.96163393 | Precision: 0.97003394 | Recall: 0.95269839 | F1: 0.96128801\n",
      "Validation  | Acc: 0.73898702 | Precision: 0.72834486 | Recall: 0.76228985 | F1: 0.74493085\n",
      "Test  | Acc: 0.73898702 | Precision: 0.73106996 | Recall: 0.75611832 | F1: 0.74338320\n",
      "current model saved to /home/paperspace/Documents/BioSentVec/svm_models/c_1_g_0.1_svm.sav\n",
      "************************************************************************\n",
      "c = 1\n",
      "gamma = 1\n",
      "Train  | Acc: 0.99996454 | Precision: 0.99992909 | Recall: 1.00000000 | F1: 0.99996454\n",
      "Validation  | Acc: 0.52000426 | Precision: 0.51030476 | Recall: 0.99063631 | F1: 0.67361262\n",
      "Test  | Acc: 0.51936582 | Precision: 0.50996060 | Recall: 0.99148755 | F1: 0.67350922\n",
      "current model saved to /home/paperspace/Documents/BioSentVec/svm_models/c_1_g_1_svm.sav\n",
      "************************************************************************\n",
      "c = 1\n",
      "gamma = 10\n",
      "Train  | Acc: 0.99996454 | Precision: 0.99992909 | Recall: 1.00000000 | F1: 0.99996454\n",
      "Validation  | Acc: 0.50021281 | Precision: 0.75000000 | Recall: 0.00063843 | F1: 0.00127578\n",
      "Test  | Acc: 0.50021281 | Precision: 1.00000000 | Recall: 0.00042562 | F1: 0.00085088\n",
      "current model saved to /home/paperspace/Documents/BioSentVec/svm_models/c_1_g_10_svm.sav\n",
      "************************************************************************\n",
      "c = 1\n",
      "gamma = 100\n"
     ]
    }
   ],
   "source": [
    "# SVM\n",
    "from sklearn import svm\n",
    "C_2d_range = [2,4,8,16] #[0.0005, 0.01, 0.05, 0.1, 0.2, 0.5, 1,2,4,8,16]\n",
    "gamma_2d_range = [0.0001, 0.001, 0.01, 0.1, 1,10, 100, 1000]\n",
    "svm_save_dir = \"/home/paperspace/Documents/BioSentVec/svm_models/\"\n",
    "for c in C_2d_range:\n",
    "    for g in gamma_2d_range:\n",
    "        print(\"************************************************************************\")\n",
    "        print(\"c = \" + str(c))\n",
    "        print(\"gamma = \" + str(g))\n",
    "        svm_model = svm.SVC(C=c, gamma=g)\n",
    "        model = svm_model.fit(train_arrays, train_labels)\n",
    "        Y_train_pred = svm_model.predict(train_arrays)\n",
    "        acc_train, pre_train, rec_train, f1_train = accuracy_score(train_labels, Y_train_pred), precision_score(train_labels, Y_train_pred), recall_score(train_labels, Y_train_pred), f1_score(train_labels, Y_train_pred)\n",
    "        print('Train  | Acc: %.8f | Precision: %.8f | Recall: %.8f | F1: %.8f' % (acc_train, pre_train, rec_train, f1_train))\n",
    "        Y_val_pred = svm_model.predict(val_arrays)\n",
    "        acc_val, pre_val, rec_val, f1_val = accuracy_score(val_labels, Y_val_pred), precision_score(val_labels, Y_val_pred), recall_score(val_labels, Y_val_pred), f1_score(val_labels, Y_val_pred)\n",
    "        print('Validation  | Acc: %.8f | Precision: %.8f | Recall: %.8f | F1: %.8f' % (acc_val, pre_val, rec_val, f1_val))\n",
    "        Y_test_pred = svm_model.predict(test_arrays)\n",
    "        acc_test, pre_test, rec_test, f1_test = accuracy_score(test_labels, Y_test_pred), precision_score(test_labels, Y_test_pred), recall_score(test_labels, Y_test_pred), f1_score(test_labels, Y_test_pred)\n",
    "        print('Test  | Acc: %.8f | Precision: %.8f | Recall: %.8f | F1: %.8f' % (acc_test, pre_test, rec_test, f1_test))\n",
    "        filename = \"c\"+\"_\" + str(c) + \"_g_\" + str(g) + '_svm.sav'\n",
    "        pickle.dump(model, open(svm_save_dir + filename, 'wb'))\n",
    "        print(\"current model saved to \" + svm_save_dir + filename)\n",
    "\n",
    "print(\"-----------------------------------Work done--------------------------------------\")"
   ]
  },
  {
   "cell_type": "code",
   "execution_count": 16,
   "metadata": {
    "scrolled": false
   },
   "outputs": [
    {
     "name": "stdout",
     "output_type": "stream",
     "text": [
      "5\n",
      "0.7334869431643625\n",
      "0.7512396694214876\n",
      "0.6981566820276498\n",
      "0.7237261146496815\n",
      "0.8118385114373506\n",
      "10\n",
      "0.7131336405529954\n",
      "0.7610536218250236\n",
      "0.6213517665130568\n",
      "0.6841437632135308\n",
      "0.7690764766131786\n",
      "15\n",
      "0.7265745007680492\n",
      "0.7478991596638656\n",
      "0.6835637480798771\n",
      "0.7142857142857142\n",
      "0.7682229429839535\n",
      "20\n",
      "0.7242703533026114\n",
      "0.7669104204753199\n",
      "0.6443932411674347\n",
      "0.7003338898163606\n",
      "0.7549931717309663\n",
      "25\n",
      "0.7296466973886329\n",
      "0.7559931506849316\n",
      "0.6781874039938556\n",
      "0.7149797570850203\n",
      "0.7567429156708775\n",
      "30\n",
      "0.7238863287250384\n",
      "0.7614349775784753\n",
      "0.652073732718894\n",
      "0.7025237898220935\n",
      "0.7476954592010925\n",
      "35\n",
      "0.7208141321044547\n",
      "0.7497827975673328\n",
      "0.662826420890937\n",
      "0.7036282103546677\n",
      "0.7487623762376238\n",
      "40\n",
      "0.7188940092165899\n",
      "0.7572202166064982\n",
      "0.6443932411674347\n",
      "0.6962655601659752\n",
      "0.7416780471150564\n",
      "45\n",
      "0.7185099846390169\n",
      "0.748471615720524\n",
      "0.6582181259600615\n",
      "0.7004495300367797\n",
      "0.7449641515875726\n",
      "50\n",
      "0.7162058371735791\n",
      "0.757548032936871\n",
      "0.6359447004608295\n",
      "0.6914405010438414\n",
      "0.7399283031751451\n",
      "55\n",
      "0.7185099846390169\n",
      "0.7542448614834674\n",
      "0.6482334869431644\n",
      "0.6972325485336637\n",
      "0.7430863776032776\n",
      "60\n",
      "0.7150537634408602\n",
      "0.7564102564102564\n",
      "0.6344086021505376\n",
      "0.6900584795321638\n",
      "0.7392881529532264\n",
      "65\n",
      "0.7181259600614439\n",
      "0.7526690391459074\n",
      "0.6497695852534562\n",
      "0.6974443528441879\n",
      "0.7403123933082963\n",
      "70\n",
      "0.7154377880184332\n",
      "0.7590027700831025\n",
      "0.631336405529954\n",
      "0.6893081761006289\n",
      "0.7357886650734039\n",
      "75\n",
      "0.7162058371735791\n",
      "0.7547511312217194\n",
      "0.6405529953917051\n",
      "0.6929788117989198\n",
      "0.7378371457835439\n",
      "80\n",
      "0.7127496159754224\n",
      "0.7579143389199255\n",
      "0.6251920122887865\n",
      "0.6851851851851852\n",
      "0.7341242744964152\n",
      "85\n",
      "0.7150537634408602\n",
      "0.7550091074681239\n",
      "0.6367127496159755\n",
      "0.6908333333333334\n",
      "0.7353192215773301\n",
      "90\n",
      "0.7119815668202765\n",
      "0.7598870056497176\n",
      "0.619815668202765\n",
      "0.682741116751269\n",
      "0.7322891771935814\n",
      "95\n",
      "0.7135176651305684\n",
      "0.758364312267658\n",
      "0.6267281105990783\n",
      "0.6862910008410428\n",
      "0.7334414475930352\n"
     ]
    }
   ],
   "source": [
    "#KNN\n",
    "from sklearn.neighbors import KNeighborsClassifier\n",
    "\n",
    "X = train_arrays\n",
    "y = train_labels\n",
    "\n",
    "for k in list(range(5, 100, 5)):\n",
    "    print(k)\n",
    "    neigh = KNeighborsClassifier(n_neighbors=k)\n",
    "    neigh.fit(X, y) \n",
    "    predition = neigh.predict(test_arrays)\n",
    "    print(neigh.score(test_arrays, test_labels))\n",
    "    p = precision_score(test_labels, predition)\n",
    "    r = recall_score(test_labels, predition)\n",
    "    print(p)\n",
    "    print(r)\n",
    "    f = 2 * p * r / (p + r)\n",
    "    print(f)\n",
    "    print(neigh.score(train_arrays, train_labels))"
   ]
  },
  {
   "cell_type": "code",
   "execution_count": 22,
   "metadata": {},
   "outputs": [],
   "source": [
    "# ensemble learning\n",
    "from sklearn import svm\n",
    "abs_dir = \"/home/paperspace/Documents/BioSentVec/\"\n",
    "lr_dir = abs_dir + \"lg_models/\"\n",
    "rf_dir = abs_dir + \"rf_models/\"\n",
    "svm_dir = abs_dir + \"svm_models_linear/\"# svm_models_linear/c_0.1_svm.sav\n",
    "\n",
    "lr_model_1 = pickle.load(open(lr_dir + \"0.01_lr.sav\", 'rb'))\n",
    "lr_model_2 = pickle.load(open(lr_dir + \"0.1_lr.sav\", 'rb'))\n",
    "lr_model_3 = pickle.load(open(lr_dir + \"1_lr.sav\", 'rb'))\n",
    "lr_model_4 = pickle.load(open(lr_dir + \"10_lr.sav\", 'rb'))\n",
    "lr_model_5 = pickle.load(open(lr_dir + \"100_lr.sav\", 'rb'))\n",
    "lr_model_6 = pickle.load(open(lr_dir + \"1000_lr.sav\", 'rb'))\n",
    "#rf_model = pickle.load(open(rf_dir + \"d_6_200_rf.sav\", 'rb'))\n",
    "svm_model_1 = pickle.load(open(svm_dir + \"c_0.1_svm.sav\", 'rb'))\n",
    "svm_model_2 = pickle.load(open(svm_dir + \"c_0.01_svm.sav\", 'rb'))\n",
    "#svm = pickle.load(open(, 'rb'))"
   ]
  },
  {
   "cell_type": "code",
   "execution_count": 24,
   "metadata": {},
   "outputs": [
    {
     "name": "stdout",
     "output_type": "stream",
     "text": [
      "<class 'numpy.float64'>\n",
      "<class 'numpy.ndarray'>\n",
      "<class 'numpy.ndarray'>\n",
      "[2. 0. 2. ... 0. 2. 0.]\n",
      "[1. 0. 1. ... 0. 1. 0.]\n",
      "Train  | Acc: 0.71771506 | Precision: 0.70420380 | Recall: 0.75079782 | F1: 0.72675476\n"
     ]
    }
   ],
   "source": [
    "Y_train_pred_lr = lr_model_1.predict(train_arrays)\n",
    "print(type(Y_train_pred_lr[0]))\n",
    "Y_train_pred_s1 = svm_model_1.predict(train_arrays)\n",
    "print(type(Y_train_pred_s1))\n",
    "Y_train_pred_s2 = svm_model_2.predict(train_arrays)\n",
    "print(type(Y_train_pred_s2))\n",
    "Y_train_pred = np.add(Y_train_pred_lr, Y_train_pred_s1,Y_train_pred_s2)\n",
    "print(Y_train_pred)\n",
    "Y_train_pred[Y_train_pred >= 2.0] = 1.0\n",
    "print(Y_train_pred)\n",
    "acc_train, pre_train, rec_train, f1_train = accuracy_score(train_labels, Y_train_pred), precision_score(train_labels, Y_train_pred), recall_score(train_labels, Y_train_pred), f1_score(train_labels, Y_train_pred)\n",
    "print('Train  | Acc: %.8f | Precision: %.8f | Recall: %.8f | F1: %.8f' % (acc_train, pre_train, rec_train, f1_train))"
   ]
  },
  {
   "cell_type": "code",
   "execution_count": 69,
   "metadata": {},
   "outputs": [
    {
     "name": "stdout",
     "output_type": "stream",
     "text": [
      "[1 0 0 ... 1 0 1]\n",
      "[1. 0. 0. ... 0. 0. 1.]\n",
      "<class 'numpy.ndarray'>\n",
      "[2. 0. 0. ... 1. 0. 2.]\n",
      "[1. 0. 0. ... 1. 0. 1.]\n",
      "val  | Acc: 0.64183869 | Precision: 0.59471366 | Recall: 0.89061502 | F1: 0.71319018\n"
     ]
    }
   ],
   "source": [
    "Y_val_pred_lr = (lr_model_1.predict_proba(val_arrays) >= 0.3).astype(int)\n",
    "Y_val_pred_lr = Y_val_pred_lr[:, 1]\n",
    "print(Y_val_pred_lr)\n",
    "Y_val_pred_s1 = svm_model_1.predict(val_arrays)\n",
    "print(Y_val_pred_s1)\n",
    "Y_val_pred_s2 = svm_model_2.predict(val_arrays)\n",
    "print(type(Y_val_pred_s2))\n",
    "Y_val_pred = np.add(Y_val_pred_lr, Y_val_pred_s1,Y_val_pred_s2)\n",
    "print(Y_val_pred)\n",
    "Y_val_pred[Y_val_pred >= 2.0] = 1.0\n",
    "print(Y_val_pred)\n",
    "acc_val, pre_val, rec_val, f1_val = accuracy_score(val_labels, Y_val_pred), precision_score(val_labels, Y_val_pred), recall_score(val_labels, Y_val_pred), f1_score(val_labels, Y_val_pred)\n",
    "print('val  | Acc: %.8f | Precision: %.8f | Recall: %.8f | F1: %.8f' % (acc_val, pre_val, rec_val, f1_val))"
   ]
  },
  {
   "cell_type": "code",
   "execution_count": 17,
   "metadata": {},
   "outputs": [],
   "source": [
    "from sklearn.metrics import classification_report"
   ]
  },
  {
   "cell_type": "code",
   "execution_count": 25,
   "metadata": {},
   "outputs": [
    {
     "name": "stdout",
     "output_type": "stream",
     "text": [
      "              precision    recall  f1-score   support\n",
      "\n",
      "           0       0.76      0.59      0.66     14101\n",
      "           1       0.67      0.81      0.73     14101\n",
      "\n",
      "   micro avg       0.70      0.70      0.70     28202\n",
      "   macro avg       0.71      0.70      0.70     28202\n",
      "weighted avg       0.71      0.70      0.70     28202\n",
      "\n",
      "0.701439614211758\n"
     ]
    }
   ],
   "source": [
    "Y_train_pred_lr_1 = (lr_model_1.predict_proba(train_arrays) >= 0.43).astype(int)\n",
    "Y_train_pred_lr_1 = Y_train_pred_lr_1[:, 1]\n",
    "Y_train_pred_lr_2 = (lr_model_2.predict_proba(train_arrays) >= 0.57).astype(int)\n",
    "Y_train_pred_lr_2 = Y_train_pred_lr_2[:, 1]\n",
    "#Y_train_pred_lr_3 = (lr_model_3.predict_proba(train_arrays) >= 0.47).astype(int)\n",
    "#Y_train_pred_lr_3 = Y_train_pred_lr_3[:, 1]\n",
    "Y_train_pred_s1 = svm_model_1.predict(train_arrays)\n",
    "#Y_train_pred_s2 = svm_model_2.predict(train_arrays)\n",
    "Y_train_pred = np.add(Y_train_pred_lr_1,Y_train_pred_lr_2)\n",
    "#Y_train_pred = np.add(Y_train_pred, Y_train_pred_lr_3)\n",
    "Y_train_pred = np.add(Y_train_pred, Y_train_pred_s1)\n",
    "#Y_train_pred = np.add(Y_train_pred, Y_train_pred_s2)\n",
    "Y_train_pred[Y_train_pred >= 2.0] = 1.0\n",
    "Y_train_pred=Y_train_pred.astype(int) \n",
    "train_labels=train_labels.astype(int) \n",
    "print(classification_report(train_labels,Y_train_pred,labels=[0,1]))\n",
    "print(accuracy_score(train_labels, Y_train_pred))"
   ]
  },
  {
   "cell_type": "code",
   "execution_count": 26,
   "metadata": {},
   "outputs": [
    {
     "name": "stdout",
     "output_type": "stream",
     "text": [
      "              precision    recall  f1-score   support\n",
      "\n",
      "           0       0.74      0.57      0.64      4699\n",
      "           1       0.65      0.80      0.72      4699\n",
      "\n",
      "   micro avg       0.69      0.69      0.69      9398\n",
      "   macro avg       0.70      0.69      0.68      9398\n",
      "weighted avg       0.70      0.69      0.68      9398\n",
      "\n",
      "0.6855713981698234\n"
     ]
    }
   ],
   "source": [
    "Y_val_pred_lr_1 = (lr_model_1.predict_proba(val_arrays) >= 0.43).astype(int)\n",
    "Y_val_pred_lr_1 = Y_val_pred_lr_1[:, 1]\n",
    "Y_val_pred_lr_2 = (lr_model_2.predict_proba(val_arrays) >= 0.57).astype(int)\n",
    "Y_val_pred_lr_2 = Y_val_pred_lr_2[:, 1]\n",
    "#Y_val_pred_lr_3 = (lr_model_3.predict_proba(val_arrays) >= 0.47).astype(int)\n",
    "#Y_val_pred_lr_3 = Y_val_pred_lr_3[:, 1]\n",
    "Y_val_pred_s1 = svm_model_1.predict(val_arrays)\n",
    "#Y_val_pred_s2 = svm_model_2.predict(val_arrays)\n",
    "Y_val_pred = np.add(Y_val_pred_lr_1,Y_val_pred_lr_2)\n",
    "#Y_val_pred = np.add(Y_val_pred, Y_val_pred_lr_3)\n",
    "Y_val_pred = np.add(Y_val_pred, Y_val_pred_s1)\n",
    "#Y_val_pred = np.add(Y_val_pred, Y_val_pred_s2)\n",
    "Y_val_pred[Y_val_pred >= 2.0] = 1.0\n",
    "Y_val_pred=Y_val_pred.astype(int) \n",
    "val_labels=val_labels.astype(int) \n",
    "print(classification_report(val_labels,Y_val_pred,labels=[0,1]))\n",
    "print(accuracy_score(val_labels, Y_val_pred))"
   ]
  },
  {
   "cell_type": "code",
   "execution_count": null,
   "metadata": {},
   "outputs": [],
   "source": [
    "# RCNN\n",
    "rcnn_model_dir = '/home/paperspace/Documents/RCNN-421-BioSentVec/runs-ns/1571088121'\n"
   ]
  },
  {
   "cell_type": "code",
   "execution_count": 36,
   "metadata": {},
   "outputs": [
    {
     "name": "stdout",
     "output_type": "stream",
     "text": [
      "0.6895084060438391\n",
      "0.6541991341991342\n",
      "0.8040008512449457\n",
      "0.6894020004256225\n",
      "0.653342522398346\n",
      "0.8069802085550117\n"
     ]
    }
   ],
   "source": [
    "Y_test_pred_lr_1 = (lr_model_1.predict_proba(test_arrays) >= 0.42).astype(int)\n",
    "Y_test_pred_lr_1 = Y_test_pred_lr_1[:, 1]\n",
    "Y_test_pred = Y_test_pred_lr_1\n",
    "acc_test, pre_test, rec_test, f1_test = accuracy_score(test_labels, Y_test_pred), precision_score(test_labels, Y_test_pred), recall_score(test_labels, Y_test_pred), f1_score(test_labels, Y_test_pred)\n",
    "print(acc_test)\n",
    "print(pre_test)\n",
    "print(rec_test)\n",
    "Y_test_pred_lr_2 = (lr_model_2.predict_proba(test_arrays) >= 0.57).astype(int)\n",
    "Y_test_pred_lr_2 = Y_test_pred_lr_2[:, 1]\n",
    "#Y_test_pred_lr_3 = (lr_model_3.predict_proba(test_arrays) >= 0.47).astype(int)\n",
    "#Y_test_pred_lr_3 = Y_test_pred_lr_3[:, 1]\n",
    "Y_test_pred_s1 = svm_model_1.predict(test_arrays)\n",
    "#Y_test_pred_s2 = svm_model_2.predict(test_arrays)\n",
    "Y_test_pred = np.add(Y_test_pred_lr_1,Y_test_pred_lr_2)\n",
    "#Y_test_pred = np.add(Y_test_pred, Y_test_pred_lr_3)\n",
    "Y_test_pred = np.add(Y_test_pred, Y_test_pred_s1)\n",
    "#Y_test_pred = np.add(Y_test_pred, Y_test_pred_s2)\n",
    "Y_test_pred[Y_test_pred >= 2.0] = 1.0\n",
    "Y_test_pred=Y_test_pred.astype(int) \n",
    "test_labels=test_labels.astype(int) \n",
    "acc_test, pre_test, rec_test, f1_test = accuracy_score(test_labels, Y_test_pred), precision_score(test_labels, Y_test_pred), recall_score(test_labels, Y_test_pred), f1_score(test_labels, Y_test_pred)\n",
    "print(acc_test)\n",
    "print(pre_test)\n",
    "print(rec_test)\n",
    "#print(classification_report(test_labels,Y_test_pred,labels=[0,1]))"
   ]
  },
  {
   "cell_type": "code",
   "execution_count": 107,
   "metadata": {},
   "outputs": [
    {
     "name": "stdout",
     "output_type": "stream",
     "text": [
      "[5. 0. 3. ... 0. 0. 5.]\n",
      "test  | Acc: 0.65939562 | Precision: 0.65939562 | Recall: 0.65939562 | F1: 0.65939562\n"
     ]
    }
   ],
   "source": [
    "Y_test_pred_lr_1 = (lr_model_1.predict_proba(test_arrays) >= 0.44).astype(int)\n",
    "Y_test_pred_lr_1 = Y_test_pred_lr_1[:, 1]\n",
    "Y_test_pred_lr_2 = (lr_model_2.predict_proba(test_arrays) >= 0.44).astype(int)\n",
    "Y_test_pred_lr_2 = Y_test_pred_lr_2[:, 1]\n",
    "Y_test_pred_lr_3 = (lr_model_3.predict_proba(test_arrays) >= 0.44).astype(int)\n",
    "Y_test_pred_lr_3 = Y_test_pred_lr_3[:, 1]\n",
    "'''\n",
    "Y_test_pred_lr_4 = (lr_model_4.predict_proba(test_arrays) >= 0.44).astype(int)\n",
    "Y_test_pred_lr_4 = Y_test_pred_lr_4[:, 1]\n",
    "Y_test_pred_lr_5 = (lr_model_5.predict_proba(test_arrays) >= 0.44).astype(int)\n",
    "Y_test_pred_lr_5 = Y_test_pred_lr_5[:, 1]\n",
    "Y_test_pred_lr_6 = (lr_model_6.predict_proba(test_arrays) >= 0.44).astype(int)\n",
    "Y_test_pred_lr_6 = Y_test_pred_lr_6[:, 1]\n",
    "'''\n",
    "Y_test_pred_s1 = svm_model_1.predict(test_arrays)\n",
    "Y_test_pred_s2 = svm_model_2.predict(test_arrays)\n",
    "\n",
    "Y_test_pred = np.add(Y_test_pred_lr_1,Y_test_pred_lr_2)\n",
    "Y_test_pred = np.add(Y_test_pred, Y_test_pred_lr_3)\n",
    "#Y_test_pred = np.add(Y_test_pred, Y_test_pred_lr_4)\n",
    "#Y_test_pred = np.add(Y_test_pred, Y_test_pred_lr_5)\n",
    "#Y_test_pred = np.add(Y_test_pred, Y_test_pred_lr_6)\n",
    "Y_test_pred = np.add(Y_test_pred, Y_test_pred_s1)\n",
    "Y_test_pred = np.add(Y_test_pred, Y_test_pred_s2)\n",
    "print(Y_test_pred)\n",
    "Y_test_pred[Y_test_pred > 3.0] = 1\n",
    "Y_test_pred=Y_test_pred.astype(int) \n",
    "test_labels=test_labels.astype(int) \n",
    "acc_test, pre_test, rec_test, f1_test = accuracy_score(test_labels, Y_test_pred), precision_score(test_labels, Y_test_pred,average='micro'), recall_score(test_labels, Y_test_pred,average='micro'), f1_score(test_labels, Y_test_pred,average='micro')\n",
    "print('test  | Acc: %.8f | Precision: %.8f | Recall: %.8f | F1: %.8f' % (acc_test, pre_test, rec_test, f1_test))"
   ]
  }
 ],
 "metadata": {
  "kernelspec": {
   "display_name": "Python 3",
   "language": "python",
   "name": "python3"
  },
  "language_info": {
   "codemirror_mode": {
    "name": "ipython",
    "version": 3
   },
   "file_extension": ".py",
   "mimetype": "text/x-python",
   "name": "python",
   "nbconvert_exporter": "python",
   "pygments_lexer": "ipython3",
   "version": "3.6.8"
  }
 },
 "nbformat": 4,
 "nbformat_minor": 2
}
